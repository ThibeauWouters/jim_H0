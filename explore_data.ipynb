{
 "cells": [
  {
   "cell_type": "markdown",
   "metadata": {},
   "source": [
    "# Explore data"
   ]
  },
  {
   "cell_type": "markdown",
   "metadata": {},
   "source": [
    "Simple notebook to explore the dataset"
   ]
  },
  {
   "cell_type": "code",
   "execution_count": 184,
   "metadata": {},
   "outputs": [],
   "source": [
    "# mandatory stuff to get things working properly\n",
    "import os\n",
    "import json\n",
    "import psutil\n",
    "p = psutil.Process()\n",
    "p.cpu_affinity([0])\n",
    "import warnings\n",
    "warnings.filterwarnings(\"ignore\", \"Wswiglal-redir-stdio\")\n",
    "os.environ[\"CUDA_VISIBLE_DEVICES\"] = \"-1\"\n",
    "\n",
    "import numpy as np\n",
    "np.random.seed(0)\n",
    "import matplotlib.pyplot as plt\n",
    "import utils\n",
    "from gwpy.table import EventTable\n",
    "\n",
    "import jax.numpy as jnp\n",
    "from ripple import ms_to_Mc_eta, Mc_eta_to_ms\n",
    "\n",
    "from bilby.gw.conversion import component_masses_to_chirp_mass, chirp_mass_and_mass_ratio_to_component_masses\n",
    "\n",
    "rcparams = {\"axes.grid\": True,\n",
    "        \"text.usetex\" : True,\n",
    "        \"font.family\" : \"serif\",\n",
    "        \"ytick.color\" : \"black\",\n",
    "        \"xtick.color\" : \"black\",\n",
    "        \"axes.labelcolor\" : \"black\",\n",
    "        \"axes.edgecolor\" : \"black\",\n",
    "        \"font.serif\" : [\"Computer Modern Serif\"],\n",
    "        \"xtick.labelsize\": 16,\n",
    "        \"ytick.labelsize\": 16,\n",
    "        \"axes.labelsize\": 16,\n",
    "        \"legend.fontsize\": 16,\n",
    "        \"legend.title_fontsize\": 16,\n",
    "        \"figure.titlesize\": 16}\n",
    "\n",
    "plt.rcParams.update(rcparams)"
   ]
  },
  {
   "cell_type": "markdown",
   "metadata": {},
   "source": [
    "## Load in the selected detected events:"
   ]
  },
  {
   "cell_type": "code",
   "execution_count": 185,
   "metadata": {},
   "outputs": [],
   "source": [
    "# Define the locations etc here:\n",
    "my_outdir = \"./injections_tidal/outdir/\" # where the rundirs will come\n",
    "data_dir = \"./data_split/\"\n",
    "bns_o5 = data_dir + \"bns_O5HL_injections.dat\"\n",
    "bns_o4 = data_dir + \"bns_O4HL_injections.dat\"\n",
    "\n",
    "xml_filename_o5 = \"/home/thibeau.wouters/gw-datasets/H0_inference_O5/events_O5.xml\" # on CIT!\n",
    "xml_filename_o4 = \"/home/thibeau.wouters/gw-datasets/H0_inference_O4/events_O4.xml\" # on CIT!\n",
    "\n",
    "# Choose which to load:\n",
    "which_run = \"O5\"\n",
    "\n",
    "if which_run == \"O5\":\n",
    "    xml_filename = xml_filename_o5\n",
    "    bns = bns_o5\n",
    "else:\n",
    "    xml_filename = xml_filename_o4\n",
    "    bns = bns_o4\n",
    "\n",
    "# Load in the injections file first\n",
    "data_dict = utils.read_injections_file(bns)"
   ]
  },
  {
   "cell_type": "markdown",
   "metadata": {},
   "source": [
    "Sanity checking the code:"
   ]
  },
  {
   "cell_type": "code",
   "execution_count": 186,
   "metadata": {},
   "outputs": [
    {
     "name": "stdout",
     "output_type": "stream",
     "text": [
      "simulation_id: examples values [46 54 61 67 69]\n",
      "longitude: examples values [4.6484458  0.74084987 3.0974585  2.4400603  1.2494087 ]\n",
      "latitude: examples values [ 0.3994863  -0.15450337 -0.68239946  1.3253426  -0.65017802]\n",
      "inclination: examples values [0.98852277 2.4096784  1.1365684  0.62853526 0.67286493]\n",
      "distance: examples values [202.2241  248.38971 214.08979 330.61691 252.98103]\n",
      "mass1: examples values [2.162526  1.5296106 2.6993959 2.1099369 1.6987914]\n",
      "mass2: examples values [1.6608185 1.4760985 1.6709211 1.4581967 1.4178988]\n",
      "spin1z: examples values [-0.06717778  0.30110241  0.37668724  0.00987022 -0.05664085]\n",
      "spin2z: examples values [ 0.0129203  -0.06794227 -0.05015348  0.00470059  0.3000103 ]\n",
      "polarization: examples values [3.81010485 5.2991395  3.29717398 1.80553901 1.38171458]\n",
      "coa_phase: examples values [-0.60873395  2.07854056 -0.20948374 -0.80593646 -0.15777659]\n",
      "geocent_end_time: examples values [1.00826730e+09 1.00900375e+09 1.01130396e+09 1.02899917e+09\n",
      " 1.00188169e+09]\n",
      "geocent_end_time_ns: examples values [9.60808992e+08 6.33914471e+08 8.04257751e+08 4.18889999e+08\n",
      " 4.05323625e+08]\n",
      "redshift: examples values [0.04416837 0.05387729 0.04667602 0.07086603 0.05483598]\n",
      "source_mass1: examples values [2.07105105 1.45141243 2.57901761 1.97030893 1.6104792 ]\n",
      "source_mass2: examples values [1.5905658  1.40063602 1.59640716 1.36169853 1.34418889]\n"
     ]
    }
   ],
   "source": [
    "for key, value in data_dict.items():\n",
    "    print(f\"{key}: examples values {value[:5]}\")\n",
    "    \n",
    "example_event_id = int(data_dict[\"simulation_id\"][0])"
   ]
  },
  {
   "cell_type": "markdown",
   "metadata": {},
   "source": [
    "## Need the SNR"
   ]
  },
  {
   "cell_type": "markdown",
   "metadata": {},
   "source": [
    "The SNR is not in this file, but it is in the following file. NOTE: this dataset is stored on the LIGO LDAS CIT cluster, but it is the same as on the LHO cluster as computed by Weizmann at `/home/weizmann.kiendrebeogo/Andrew/HL-SNR-10/runs/`."
   ]
  },
  {
   "cell_type": "code",
   "execution_count": 187,
   "metadata": {},
   "outputs": [
    {
     "name": "stdout",
     "output_type": "stream",
     "text": [
      "keys\n",
      "['coinc_event_id', 'combined_far', 'end_time', 'end_time_ns', 'false_alarm_rate', 'ifos', 'mass', 'mchirp', 'minimum_duration', 'snr']\n",
      "snr_example\n",
      "14.4597946473861\n",
      "end_time_example\n",
      "1008267304\n"
     ]
    }
   ],
   "source": [
    "# Use the EventTable to read the XML file\n",
    "\n",
    "table = EventTable.read(xml_filename, tablename = \"coinc_inspiral\")\n",
    "\n",
    "# Get the keys of this table\n",
    "keys = table.keys()\n",
    "print(\"keys\")\n",
    "print(keys)\n",
    "\n",
    "# Get some specific variables that I want to use\n",
    "simulation_id_xml = np.array(table[\"coinc_event_id\"])\n",
    "snr_xml = np.array(table[\"snr\"])\n",
    "end_time = np.array(table[\"end_time\"])\n",
    "\n",
    "# Show the SNR of the above example\n",
    "idx = np.where(simulation_id_xml == example_event_id)[0][0]\n",
    "snr_example = snr_xml[idx]\n",
    "end_time_example = end_time[idx]\n",
    "\n",
    "print(\"snr_example\")\n",
    "print(snr_example)\n",
    "\n",
    "print(\"end_time_example\")\n",
    "print(end_time_example)"
   ]
  },
  {
   "cell_type": "markdown",
   "metadata": {},
   "source": [
    "This seems to be working fine, now let us put into a complete function"
   ]
  },
  {
   "cell_type": "code",
   "execution_count": 188,
   "metadata": {},
   "outputs": [
    {
     "name": "stdout",
     "output_type": "stream",
     "text": [
      "Examples of SNR and ifos:\n",
      "[14.45979465 11.55122846 13.98841417 10.11845045 13.54554399]\n",
      "['H1,L1', 'H1,L1', 'H1,L1', 'H1,L1', 'H1,L1']\n"
     ]
    }
   ],
   "source": [
    "snr_array, ifos_array = utils.get_events_info(table, data_dict[\"simulation_id\"])\n",
    "\n",
    "print(\"Examples of SNR and ifos:\")\n",
    "print(snr_array[:5])\n",
    "print(ifos_array[:5])\n",
    "\n",
    "data_dict[\"snr\"] = snr_array\n",
    "data_dict[\"ifos\"] = ifos_array\n",
    "assert len(data_dict[\"ifos\"]) == len(data_dict[\"simulation_id\"]), \"ifos and simulation_id have different lengths\""
   ]
  },
  {
   "cell_type": "markdown",
   "metadata": {},
   "source": [
    "## Choosing the BNS events to tackle"
   ]
  },
  {
   "cell_type": "markdown",
   "metadata": {},
   "source": [
    "### Checking the data"
   ]
  },
  {
   "cell_type": "markdown",
   "metadata": {},
   "source": [
    "How to choose the BNS events to analyze?"
   ]
  },
  {
   "cell_type": "code",
   "execution_count": 189,
   "metadata": {},
   "outputs": [
    {
     "name": "stdout",
     "output_type": "stream",
     "text": [
      "dict_keys(['simulation_id', 'longitude', 'latitude', 'inclination', 'distance', 'mass1', 'mass2', 'spin1z', 'spin2z', 'polarization', 'coa_phase', 'geocent_end_time', 'geocent_end_time_ns', 'redshift', 'source_mass1', 'source_mass2', 'snr', 'ifos'])\n"
     ]
    }
   ],
   "source": [
    "print(data_dict.keys())"
   ]
  },
  {
   "cell_type": "code",
   "execution_count": 190,
   "metadata": {},
   "outputs": [
    {
     "name": "stdout",
     "output_type": "stream",
     "text": [
      "Number of runs:\n",
      "206\n"
     ]
    },
    {
     "data": {
      "image/png": "[encoded data removed]",
      "text/plain": [
       "<Figure size 800x600 with 2 Axes>"
      ]
     },
     "metadata": {},
     "output_type": "display_data"
    }
   ],
   "source": [
    "def make_scatterplot(data_dict: dict,\n",
    "                     key1: str,\n",
    "                     key2: str,\n",
    "                     **plot_kwargs):\n",
    "    \n",
    "    fig, ax = plt.subplots(figsize = (8, 6))\n",
    "    ax.scatter(data_dict[key1], data_dict[key2], **plot_kwargs)\n",
    "    ax.set_xlabel(key1)\n",
    "    ax.set_ylabel(key2)\n",
    "    plt.show()\n",
    "    \n",
    "# make_scatterplot(data_dict, \"mass1\", \"mass2\", c = data_dict[\"snr\"], cmap = \"viridis\", s = 10)\n",
    "print(\"Number of runs:\")\n",
    "print(len(data_dict[\"mass1\"]))\n",
    "\n",
    "mc = component_masses_to_chirp_mass(data_dict[\"mass1\"], data_dict[\"mass2\"])\n",
    "fig, ax = plt.subplots(figsize = (8, 6))\n",
    "scatter = ax.scatter(mc, data_dict[\"distance\"], c = data_dict[\"snr\"], cmap = \"viridis\", s = 20, zorder = 100)\n",
    "ax.set_xlabel(\"Mc\")\n",
    "ax.set_ylabel(\"dL\")\n",
    "cbar = plt.colorbar(scatter, label = \"SNR\")\n",
    "plt.title(which_run, fontsize = 16)\n",
    "plt.show()"
   ]
  },
  {
   "cell_type": "markdown",
   "metadata": {},
   "source": [
    "Take those with highest SNR, or randomly sample? What are the SNRs if we just take the top 50 ones?"
   ]
  },
  {
   "cell_type": "code",
   "execution_count": 191,
   "metadata": {},
   "outputs": [
    {
     "name": "stdout",
     "output_type": "stream",
     "text": [
      "snr min and max\n",
      "18.45900082826679 51.90812568577179\n",
      "mass1 min and max\n",
      "1.36896 2.6977477\n",
      "mass2 min and max\n",
      "1.1753452 2.4809528\n",
      "spin1z min and max\n",
      "-0.71745171 0.29355336\n",
      "spin2z min and max\n",
      "-0.3416405 0.29470939\n",
      "distance min and max\n",
      "31.67835 200.04185\n"
     ]
    }
   ],
   "source": [
    "max_nb = 30\n",
    "\n",
    "sort_idx = np.argsort(data_dict[\"snr\"])[::-1]\n",
    "sampled_indices = sort_idx[:max_nb]\n",
    "\n",
    "keys = [\"snr\", \"mass1\", \"mass2\", \"spin1z\", \"spin2z\", \"distance\"]\n",
    "\n",
    "for key in keys:\n",
    "    print(f\"{key} min and max\")\n",
    "    values = data_dict[key][sampled_indices]\n",
    "    print(np.min(values), np.max(values))"
   ]
  },
  {
   "cell_type": "markdown",
   "metadata": {},
   "source": [
    "## Testing generation of config files for the injections"
   ]
  },
  {
   "cell_type": "code",
   "execution_count": 192,
   "metadata": {},
   "outputs": [
    {
     "name": "stdout",
     "output_type": "stream",
     "text": [
      "Original dictionary length\n",
      "206\n",
      "New dictionary length\n",
      "30\n"
     ]
    }
   ],
   "source": [
    "print(\"Original dictionary length\")\n",
    "print(len(data_dict[\"simulation_id\"]))\n",
    "\n",
    "filtered_dict = utils.filter_dict_by_indices(data_dict, sampled_indices)\n",
    "\n",
    "print(\"New dictionary length\")\n",
    "print(len(filtered_dict[\"simulation_id\"]))"
   ]
  },
  {
   "cell_type": "markdown",
   "metadata": {},
   "source": [
    "Take an extreme case of a single entry to be saved:"
   ]
  },
  {
   "cell_type": "code",
   "execution_count": 193,
   "metadata": {},
   "outputs": [
    {
     "name": "stdout",
     "output_type": "stream",
     "text": [
      "len(separate_dicts)\n",
      "206\n",
      "len(selected_dicts)\n",
      "30\n"
     ]
    }
   ],
   "source": [
    "# separate_dicts: ALL the injections but as a list of individual dicts\n",
    "separate_dicts = utils.split_dict(data_dict)\n",
    "\n",
    "print(\"len(separate_dicts)\")\n",
    "print(len(separate_dicts))\n",
    "\n",
    "# selected_dicts: ONLY the chosen/selected injections as a list of individual dicts\n",
    "selected_dicts = utils.split_dict(filtered_dict)\n",
    "print(\"len(selected_dicts)\")\n",
    "print(len(selected_dicts))"
   ]
  },
  {
   "cell_type": "markdown",
   "metadata": {},
   "source": [
    "## Get the final config files (low spin only)"
   ]
  },
  {
   "cell_type": "markdown",
   "metadata": {},
   "source": [
    "Commented out for now since I don't need to create them anymore."
   ]
  },
  {
   "cell_type": "code",
   "execution_count": 194,
   "metadata": {},
   "outputs": [
    {
     "name": "stdout",
     "output_type": "stream",
     "text": [
      "Made injection directory:  ./injections_tidal/outdir/injection_2130/\n",
      "Injection directory exists:  ./injections_tidal/outdir/injection_2130/\n",
      "Made injection directory:  ./injections_tidal/outdir/injection_2048/\n",
      "Injection directory exists:  ./injections_tidal/outdir/injection_2048/\n",
      "Made injection directory:  ./injections_tidal/outdir/injection_2309/\n",
      "Injection directory exists:  ./injections_tidal/outdir/injection_2309/\n",
      "Made injection directory:  ./injections_tidal/outdir/injection_1337/\n",
      "Injection directory exists:  ./injections_tidal/outdir/injection_1337/\n",
      "Made injection directory:  ./injections_tidal/outdir/injection_840/\n",
      "Injection directory exists:  ./injections_tidal/outdir/injection_840/\n",
      "Made injection directory:  ./injections_tidal/outdir/injection_510/\n",
      "Injection directory exists:  ./injections_tidal/outdir/injection_510/\n",
      "Made injection directory:  ./injections_tidal/outdir/injection_1516/\n",
      "Injection directory exists:  ./injections_tidal/outdir/injection_1516/\n",
      "Made injection directory:  ./injections_tidal/outdir/injection_269/\n",
      "Injection directory exists:  ./injections_tidal/outdir/injection_269/\n",
      "Made injection directory:  ./injections_tidal/outdir/injection_1852/\n",
      "Injection directory exists:  ./injections_tidal/outdir/injection_1852/\n",
      "Made injection directory:  ./injections_tidal/outdir/injection_1621/\n",
      "Injection directory exists:  ./injections_tidal/outdir/injection_1621/\n",
      "Made injection directory:  ./injections_tidal/outdir/injection_2237/\n",
      "Injection directory exists:  ./injections_tidal/outdir/injection_2237/\n",
      "Made injection directory:  ./injections_tidal/outdir/injection_1560/\n",
      "Injection directory exists:  ./injections_tidal/outdir/injection_1560/\n",
      "Made injection directory:  ./injections_tidal/outdir/injection_1235/\n",
      "Injection directory exists:  ./injections_tidal/outdir/injection_1235/\n",
      "Made injection directory:  ./injections_tidal/outdir/injection_1010/\n",
      "Injection directory exists:  ./injections_tidal/outdir/injection_1010/\n",
      "Made injection directory:  ./injections_tidal/outdir/injection_1444/\n",
      "Injection directory exists:  ./injections_tidal/outdir/injection_1444/\n",
      "Made injection directory:  ./injections_tidal/outdir/injection_666/\n",
      "Injection directory exists:  ./injections_tidal/outdir/injection_666/\n",
      "Made injection directory:  ./injections_tidal/outdir/injection_297/\n",
      "Injection directory exists:  ./injections_tidal/outdir/injection_297/\n",
      "Made injection directory:  ./injections_tidal/outdir/injection_2182/\n",
      "Injection directory exists:  ./injections_tidal/outdir/injection_2182/\n",
      "Made injection directory:  ./injections_tidal/outdir/injection_231/\n",
      "Injection directory exists:  ./injections_tidal/outdir/injection_231/\n",
      "Made injection directory:  ./injections_tidal/outdir/injection_2516/\n",
      "Injection directory exists:  ./injections_tidal/outdir/injection_2516/\n",
      "Made injection directory:  ./injections_tidal/outdir/injection_2300/\n",
      "Injection directory exists:  ./injections_tidal/outdir/injection_2300/\n",
      "Made injection directory:  ./injections_tidal/outdir/injection_1453/\n",
      "Injection directory exists:  ./injections_tidal/outdir/injection_1453/\n",
      "Made injection directory:  ./injections_tidal/outdir/injection_1323/\n",
      "Injection directory exists:  ./injections_tidal/outdir/injection_1323/\n",
      "Made injection directory:  ./injections_tidal/outdir/injection_2432/\n",
      "Injection directory exists:  ./injections_tidal/outdir/injection_2432/\n",
      "Made injection directory:  ./injections_tidal/outdir/injection_552/\n",
      "Injection directory exists:  ./injections_tidal/outdir/injection_552/\n",
      "Made injection directory:  ./injections_tidal/outdir/injection_1489/\n",
      "Injection directory exists:  ./injections_tidal/outdir/injection_1489/\n",
      "Made injection directory:  ./injections_tidal/outdir/injection_539/\n",
      "Injection directory exists:  ./injections_tidal/outdir/injection_539/\n",
      "Made injection directory:  ./injections_tidal/outdir/injection_247/\n",
      "Injection directory exists:  ./injections_tidal/outdir/injection_247/\n",
      "Made injection directory:  ./injections_tidal/outdir/injection_1666/\n",
      "Injection directory exists:  ./injections_tidal/outdir/injection_1666/\n",
      "Made injection directory:  ./injections_tidal/outdir/injection_532/\n",
      "Injection directory exists:  ./injections_tidal/outdir/injection_532/\n"
     ]
    }
   ],
   "source": [
    "for config_dict in selected_dicts:\n",
    "    _ = utils.generate_config(config_dict, \"./injections_tidal/outdir/\")"
   ]
  },
  {
   "cell_type": "markdown",
   "metadata": {},
   "source": [
    "### Check the created injections"
   ]
  },
  {
   "cell_type": "code",
   "execution_count": 195,
   "metadata": {},
   "outputs": [
    {
     "name": "stdout",
     "output_type": "stream",
     "text": [
      "len(dirs)\n",
      "30\n"
     ]
    }
   ],
   "source": [
    "# MTOV stuff\n",
    "MTOV_middle = 2.26\n",
    "MTOV_min = MTOV_middle - 0.22\n",
    "MTOV_max = MTOV_middle + 0.45\n",
    "\n",
    "dirs = os.listdir(\"./injections_tidal/outdir/\")\n",
    "\n",
    "print(\"len(dirs)\")\n",
    "print(len(dirs))\n",
    "\n",
    "mass1 = []\n",
    "mass2 = []\n",
    "spin1z = []\n",
    "spin2z = []\n",
    "dL = []\n",
    "snr = []\n",
    "\n",
    "for d in dirs:\n",
    "    path = os.path.join(os.path.join(\"./injections_tidal/outdir/\", d), \"config.json\")\n",
    "    with open(path, \"r\") as f:\n",
    "        config = json.load(f)\n",
    "    \n",
    "    # Masses\n",
    "    mc, q = config[\"M_c\"], config[\"q\"]\n",
    "    m1, m2 = chirp_mass_and_mass_ratio_to_component_masses(mc, q)\n",
    "    mass1.append(m1)\n",
    "    mass2.append(m2)\n",
    "    \n",
    "    # Spins\n",
    "    spin1z.append(config[\"s1_z\"])\n",
    "    spin2z.append(config[\"s2_z\"])\n",
    "    \n",
    "    # Distance and SNR\n",
    "    dL.append(config[\"d_L\"])\n",
    "    snr.append(config[\"snr\"])"
   ]
  },
  {
   "cell_type": "code",
   "execution_count": 196,
   "metadata": {},
   "outputs": [
    {
     "data": {
      "image/png": "[encoded data removed]",
      "text/plain": [
       "<Figure size 640x480 with 1 Axes>"
      ]
     },
     "metadata": {},
     "output_type": "display_data"
    },
    {
     "data": {
      "image/png": "[encoded data removed]",
      "text/plain": [
       "<Figure size 640x480 with 1 Axes>"
      ]
     },
     "metadata": {},
     "output_type": "display_data"
    },
    {
     "data": {
      "image/png": "[encoded data removed]",
      "text/plain": [
       "<Figure size 640x480 with 1 Axes>"
      ]
     },
     "metadata": {},
     "output_type": "display_data"
    },
    {
     "data": {
      "image/png": "[encoded data removed]",
      "text/plain": [
       "<Figure size 640x480 with 1 Axes>"
      ]
     },
     "metadata": {},
     "output_type": "display_data"
    },
    {
     "data": {
      "image/png": "[encoded data removed]",
      "text/plain": [
       "<Figure size 640x480 with 1 Axes>"
      ]
     },
     "metadata": {},
     "output_type": "display_data"
    },
    {
     "data": {
      "image/png": "[encoded data removed]",
      "text/plain": [
       "<Figure size 640x480 with 1 Axes>"
      ]
     },
     "metadata": {},
     "output_type": "display_data"
    }
   ],
   "source": [
    "for values, name in zip([mass1, mass2, spin1z, spin2z, dL, snr], [\"m1\", \"m2\", \"spin1z\", \"spin2z\", \"dL\", \"snr\"]):\n",
    "    plt.hist(values, bins = 20, histtype = \"step\", density=True, lw = 2, color = \"blue\")\n",
    "    plt.xlabel(name)\n",
    "    plt.ylabel(\"Density\")\n",
    "    if name in [\"m1\", \"m2\"]:\n",
    "        ymin = 0\n",
    "        ymax = 5\n",
    "        plt.fill_between([MTOV_min, MTOV_max], ymin, ymax, color = \"gray\", alpha = 0.25, label = r\"$M_{\\rm{TOV}}$ bound\")\n",
    "        plt.axvline(MTOV_middle, ymin=ymin, ymax=ymax, color = \"gray\", linestyle = \"--\")\n",
    "    plt.show()"
   ]
  },
  {
   "cell_type": "markdown",
   "metadata": {},
   "source": [
    "# === Archive === "
   ]
  },
  {
   "cell_type": "code",
   "execution_count": 197,
   "metadata": {},
   "outputs": [],
   "source": [
    "# # Select dicts that have spins between -0.05 and 0.05\n",
    "# MTOV_threshold = 2.25\n",
    "# passes_criterion = lambda x: (x[\"mass1\"] < MTOV_threshold) * (x[\"mass2\"] < MTOV_threshold) * (abs(x[\"spin1z\"]) < 0.05) * (abs(x[\"spin2z\"]) < 0.05)\n",
    "# selected_dicts = [d for d in separate_dicts if passes_criterion(d)]\n",
    "# print(f\"Number of low spin: {len(selected_dicts)}\")\n",
    "# print(selected_dicts[0]) # an example:"
   ]
  },
  {
   "cell_type": "markdown",
   "metadata": {},
   "source": [
    "Spins are large?"
   ]
  },
  {
   "cell_type": "code",
   "execution_count": 198,
   "metadata": {},
   "outputs": [],
   "source": [
    "# s1z = data_dict[\"spin1z\"]\n",
    "# s2z = data_dict[\"spin2z\"]\n",
    "# simulation_id_list = data_dict[\"simulation_id\"]\n",
    "\n",
    "# hist_1, bins = np.histogram(s1z, bins = 20, density=True)\n",
    "# hist_2, _ = np.histogram(s2z, bins = bins, density=True)\n",
    "\n",
    "# for hist, label in zip([hist_1, hist_2], [\"Spin 1\", \"Spin 2\"]):\n",
    "#     plt.stairs(hist, bins, fill = False, linewidth = 2, label = label)\n",
    "# plt.legend()\n",
    "# plt.xlabel(\"Spin\")\n",
    "# plt.ylabel(\"Density\")\n",
    "# plt.show()"
   ]
  },
  {
   "cell_type": "markdown",
   "metadata": {},
   "source": [
    "Selected dicts:"
   ]
  },
  {
   "cell_type": "code",
   "execution_count": 199,
   "metadata": {},
   "outputs": [],
   "source": [
    "# def get_values_by_key(list_of_dicts: list[dict], key: str):\n",
    "#     return np.array([d[key] for d in list_of_dicts])\n",
    "\n",
    "# spin1z = get_values_by_key(selected_dicts, \"spin1z\")\n",
    "# spin2z = get_values_by_key(selected_dicts, \"spin2z\")\n",
    "# mass1 = get_values_by_key(selected_dicts, \"mass1\")\n",
    "# mass2 = get_values_by_key(selected_dicts, \"mass2\")\n",
    "# snr = get_values_by_key(selected_dicts, \"snr\")\n",
    "\n",
    "# hist_1, bins = np.histogram(spin1z, bins = 20, density=True)\n",
    "# hist_2, _ = np.histogram(spin2z, bins = bins, density=True)\n",
    "\n",
    "# for hist, label in zip([hist_1, hist_2], [\"Spin 1\", \"Spin 2\"]):\n",
    "#     plt.stairs(hist, bins, fill = False, linewidth = 2, label = label)\n",
    "# plt.legend()\n",
    "# plt.xlabel(\"Spin\")\n",
    "# plt.ylabel(\"Density\")\n",
    "# plt.show()\n",
    "\n",
    "# hist_1, bins = np.histogram(mass1, bins = 20, density=True)\n",
    "# hist_2, _ = np.histogram(mass2, bins = bins, density=True)\n",
    "# for hist, label in zip([hist_1, hist_2], [\"Mass 1\", \"Mass 2\"]):\n",
    "#     plt.stairs(hist, bins, fill = False, linewidth = 2, label = label)\n",
    "# # Show the bands from Hauke's paper: https://arxiv.org/abs/2402.04172\n",
    "# middle = 2.26\n",
    "# xmin = middle - 0.22\n",
    "# xmax = middle + 0.45\n",
    "# ymin = 0\n",
    "# ymax = 5\n",
    "# plt.fill_between([xmin, xmax], ymin, ymax, color = \"gray\", alpha = 0.25, label = r\"$M_{\\rm{TOV}}$ bound\")\n",
    "# plt.axvline(middle, ymin=ymin, ymax=ymax, color = \"gray\", linestyle = \"--\")\n",
    "# plt.xlabel(\"Mass\")\n",
    "# plt.ylabel(\"Density\")\n",
    "# plt.legend()\n",
    "# plt.show()\n",
    "\n",
    "\n",
    "# hist, bins = np.histogram(snr, bins = 20, density=True)\n",
    "# plt.stairs(hist, bins, fill = False, linewidth = 2, label = label)\n",
    "# plt.legend()\n",
    "# plt.xlabel(\"SNR\")\n",
    "# plt.ylabel(\"Density\")\n",
    "# plt.show()"
   ]
  },
  {
   "cell_type": "markdown",
   "metadata": {},
   "source": [
    "Plot the created data"
   ]
  },
  {
   "cell_type": "code",
   "execution_count": 200,
   "metadata": {},
   "outputs": [],
   "source": [
    "# # Analyze the selected events:\n",
    "# subdirs = os.listdir(my_outdir)\n",
    "# dL_list = [] \n",
    "# spin1_list = []\n",
    "# spin2_list = []\n",
    "# snr_list = []\n",
    "\n",
    "# for subdir in subdirs:\n",
    "#     if not os.path.isdir(my_outdir + subdir):\n",
    "#         continue\n",
    "        \n",
    "#     # Load the config and save dL, chi1, chi2\n",
    "#     with open(my_outdir + subdir + \"/config.json\", \"r\") as f:\n",
    "#         config = json.load(f)\n",
    "        \n",
    "#         dL, chi1, chi2, snr = config[\"d_L\"], config[\"s1_z\"], config[\"s2_z\"], config[\"snr\"]\n",
    "#         dL_list.append(dL)\n",
    "#         spin1_list.append(chi1)\n",
    "#         spin2_list.append(chi2)\n",
    "#         snr_list.append(snr)\n",
    "        \n",
    "#         # Hacky way\n",
    "#         if snr > 40:\n",
    "#             print(f\"High SNR: {snr}, subdir: {subdir}\")\n",
    "# # Make histograms\n",
    "\n",
    "# for values, label in zip([dL_list, spin1_list, spin2_list, snr_list], [\"dL\", \"Spin 1\", \"Spin 2\", \"SNR\"]):\n",
    "#     hist, bins = np.histogram(values, bins = 20, density = True)\n",
    "#     plt.stairs(hist, bins, fill = False, linewidth = 2)\n",
    "#     plt.xlabel(label)\n",
    "#     plt.ylabel(\"Density\")\n",
    "#     plt.show()\n",
    "\n",
    "\n",
    "# m1_list = []\n",
    "# m2_list = []\n",
    "\n",
    "# for subdir in subdirs:\n",
    "#     if not os.path.isdir(my_outdir + subdir):\n",
    "#         continue\n",
    "        \n",
    "#     # Load the config and save dL, chi1, chi2\n",
    "#     with open(my_outdir + subdir + \"/config.json\", \"r\") as f:\n",
    "#         config = json.load(f)\n",
    "        \n",
    "#         mc, q = config[\"M_c\"], config[\"q\"]\n",
    "#         eta = q / (1 + q)**2\n",
    "#         m1, m2 = Mc_eta_to_ms(jnp.array([mc, eta]))\n",
    "        \n",
    "#         m1_list.append(m1)\n",
    "#         m2_list.append(m2)\n",
    "        \n",
    "# # Make histograms\n",
    "# plt.figure(figsize = (10, 5))\n",
    "# for values, label in zip([m1_list, m2_list], [r\"$m_1$\", r\"$m_2$\"]):\n",
    "#     hist, bins = np.histogram(values, bins = 20)\n",
    "#     plt.stairs(hist, bins, fill = False, linewidth = 2, label = label)\n",
    "\n",
    "# # Finalize plot\n",
    "# plt.xlabel(\"Mass\")\n",
    "# plt.ylabel(\"Density\")\n",
    "# # Show the bands from Hauke's paper: https://arxiv.org/abs/2402.04172\n",
    "# middle = 2.26\n",
    "# xmin = middle - 0.22\n",
    "# xmax = middle + 0.45\n",
    "# ymin = 0\n",
    "# ymax = 5\n",
    "# plt.fill_between([xmin, xmax], ymin, ymax, color = \"gray\", alpha = 0.25, label = r\"$M_{\\rm{TOV}}$ bound\")\n",
    "# plt.axvline(middle, ymin=ymin, ymax=ymax, color = \"gray\", linestyle = \"--\")\n",
    "# plt.legend()\n",
    "# plt.show()"
   ]
  },
  {
   "cell_type": "code",
   "execution_count": null,
   "metadata": {},
   "outputs": [],
   "source": []
  },
  {
   "cell_type": "markdown",
   "metadata": {},
   "source": [
    "Old way to get the desired low spin"
   ]
  },
  {
   "cell_type": "code",
   "execution_count": 201,
   "metadata": {},
   "outputs": [],
   "source": [
    "# # Count how many events have a spins 1 and 2 between -0.05 and 0.05\n",
    "# low_spin_indices = []\n",
    "# MAX_NB = 30 # max number of runs to save\n",
    "\n",
    "# nb_events_low_spin = 0\n",
    "# for (sim_id, s1, s2) in enumerate(zip(simulation_id_list, s1z, s2z)):\n",
    "#     if -0.05 < s1 < 0.05 and -0.05 < s2 < 0.05:\n",
    "#         nb_events_low_spin += 1\n",
    "#         low_spin_indices.append(sim_id)\n",
    "        \n",
    "# print(f\"Number of events with spins between -0.05 and 0.05: {nb_events_low_spin}\")\n",
    "\n",
    "# print(\"low_spin_indices\")\n",
    "# print(low_spin_indices)\n",
    "\n",
    "# test_idx = low_spin_indices[2]\n",
    "# print(test_idx)\n",
    "# print(data_dict[\"spin1z\"][test_idx])\n",
    "# print(data_dict[\"spin2z\"][test_idx])\n",
    "\n",
    "# # Show their SNR, sorted from high to low\n",
    "# snr_low_spin = snr_array[low_spin_indices]\n",
    "# sorted_snr_low_spin_idx = np.argsort(snr_low_spin)[::-1]\n",
    "# sorted_snr_low_spin = snr_low_spin[sorted_snr_low_spin_idx]\n",
    "# sorted_simulation_low_spin_idx = data_dict[\"simulation_id\"][low_spin_indices][sorted_snr_low_spin_idx]\n",
    "\n",
    "# # Save the highest SNR up to MAX_NB\n",
    "# nb_to_save = min(MAX_NB, len(sorted_snr_low_spin))\n",
    "# print(f\"Saving {nb_to_save} highest SNR events\")\n",
    "# for i in range(nb_to_save):\n",
    "#     idx = sorted_snr_low_spin_idx[i]\n",
    "#     print(f\"Saving event {idx}\")\n",
    "#     filtered_dict = utils.filter_dict_by_indices(data_dict, [idx])\n",
    "#     utils.generate_config(filtered_dict, my_outdir)\n",
    "\n",
    "# print(\"sorted_snr_low_spin\")\n",
    "# print(sorted_snr_low_spin)\n",
    "\n",
    "# # Show the first simulation ID with highest SNR\n",
    "# print(\"sorted_simulation_low_spin_idx highest SNR\")\n",
    "# print(low_spin_indices[sorted_snr_low_spin_idx[0]])"
   ]
  },
  {
   "cell_type": "markdown",
   "metadata": {},
   "source": [
    "## What priors should I use?"
   ]
  },
  {
   "cell_type": "code",
   "execution_count": 202,
   "metadata": {},
   "outputs": [],
   "source": [
    "# m1 = data_dict[\"source_mass1\"]\n",
    "# m2 = data_dict[\"source_mass2\"]\n",
    "# print(f\"m1 varies between {np.min(m1)} and {np.max(m1)}\")\n",
    "# print(f\"m2 varies between {np.min(m2)} and {np.max(m2)}\\n\")\n",
    "\n",
    "# # Compute the chirp mass for this\n",
    "# mc, _ = ms_to_Mc_eta(jnp.array([m1, m2]))\n",
    "# print(f\"mc varies between {np.min(mc)} and {np.max(mc)}\")"
   ]
  },
  {
   "cell_type": "code",
   "execution_count": null,
   "metadata": {},
   "outputs": [],
   "source": []
  }
 ],
 "metadata": {
  "kernelspec": {
   "display_name": "Python 3",
   "language": "python",
   "name": "python3"
  },
  "language_info": {
   "codemirror_mode": {
    "name": "ipython",
    "version": 3
   },
   "file_extension": ".py",
   "mimetype": "text/x-python",
   "name": "python",
   "nbconvert_exporter": "python",
   "pygments_lexer": "ipython3",
   "version": "3.10.13"
  },
  "orig_nbformat": 4
 },
 "nbformat": 4,
 "nbformat_minor": 2
}
