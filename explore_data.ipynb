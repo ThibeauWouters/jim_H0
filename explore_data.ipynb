{
 "cells": [
  {
   "cell_type": "markdown",
   "metadata": {},
   "source": [
    "# Explore data"
   ]
  },
  {
   "cell_type": "markdown",
   "metadata": {},
   "source": [
    "Simple notebook to explore the dataset"
   ]
  },
  {
   "cell_type": "code",
   "execution_count": 60,
   "metadata": {},
   "outputs": [],
   "source": [
    "# mandatory stuff to get things working properly\n",
    "import psutil\n",
    "p = psutil.Process()\n",
    "p.cpu_affinity([0])\n",
    "import warnings\n",
    "warnings.filterwarnings(\"ignore\", \"Wswiglal-redir-stdio\")\n",
    "\n",
    "import numpy as np\n",
    "np.random.seed(0)\n",
    "import matplotlib.pyplot as plt\n",
    "import utils\n",
    "from gwpy.table import EventTable\n",
    "\n",
    "import jax.numpy as jnp\n",
    "from ripple import ms_to_Mc_eta\n",
    "\n",
    "rcparams = {\"axes.grid\": True,\n",
    "        \"text.usetex\" : True,\n",
    "        \"font.family\" : \"serif\",\n",
    "        \"ytick.color\" : \"black\",\n",
    "        \"xtick.color\" : \"black\",\n",
    "        \"axes.labelcolor\" : \"black\",\n",
    "        \"axes.edgecolor\" : \"black\",\n",
    "        \"font.serif\" : [\"Computer Modern Serif\"],\n",
    "        \"xtick.labelsize\": 16,\n",
    "        \"ytick.labelsize\": 16,\n",
    "        \"axes.labelsize\": 16,\n",
    "        \"legend.fontsize\": 16,\n",
    "        \"legend.title_fontsize\": 16,\n",
    "        \"figure.titlesize\": 16}\n",
    "\n",
    "plt.rcParams.update(rcparams)"
   ]
  },
  {
   "cell_type": "markdown",
   "metadata": {},
   "source": [
    "## Load in the selected detected events:"
   ]
  },
  {
   "cell_type": "code",
   "execution_count": 36,
   "metadata": {},
   "outputs": [],
   "source": [
    "data_dir = \"./data_split/\"\n",
    "bns_o5 = data_dir + \"bns_O5HL_injections.dat\"\n",
    "data_dict = utils.read_injections_file(bns_o5)"
   ]
  },
  {
   "cell_type": "markdown",
   "metadata": {},
   "source": [
    "Sanity checking the code:"
   ]
  },
  {
   "cell_type": "code",
   "execution_count": 37,
   "metadata": {},
   "outputs": [
    {
     "name": "stdout",
     "output_type": "stream",
     "text": [
      "simulation_id: examples values [ 9 14 21 23 24]\n",
      "longitude: examples values [3.7971859  4.5625499  0.96535827 3.3950243  2.4084685 ]\n",
      "latitude: examples values [ 0.87535684 -0.00339247  1.405876   -0.33706707  0.0869114 ]\n",
      "inclination: examples values [0.38678959 0.32873468 2.6485628  2.3010108  0.26154381]\n",
      "distance: examples values [203.77752 636.56451 226.54627 487.65838 443.7946 ]\n",
      "mass1: examples values [2.0644817 1.9580471 2.1042908 2.1821147 2.0891864]\n",
      "mass2: examples values [1.6678797 1.4436337 1.7786805 1.9537788 1.3713884]\n",
      "spin1z: examples values [-0.06107824 -0.0595872  -0.09220774 -0.14975753  0.07147652]\n",
      "spin2z: examples values [-0.0003123  -0.01736595  0.10383004 -0.05204631 -0.05826461]\n",
      "polarization: examples values [1.33792651 6.27256107 5.72252846 3.25340319 1.80338764]\n",
      "coa_phase: examples values [-2.08128214 -2.9611845   0.80135041  0.14345084 -2.74263024]\n",
      "geocent_end_time: examples values [1.02630596e+09 1.02778482e+09 1.02535090e+09 1.02246412e+09\n",
      " 1.02606043e+09]\n",
      "geocent_end_time_ns: examples values [4.87770796e+08 7.82459617e+08 2.86546469e+08 9.57714438e+08\n",
      " 6.66605115e+08]\n",
      "redshift: examples values [0.04449715 0.13111233 0.04929936 0.10232975 0.09366305]\n",
      "source_mass1: examples values [1.97653167 1.73108104 2.00542465 1.97954804 1.91026514]\n",
      "source_mass2: examples values [1.59682551 1.27629561 1.69511254 1.77240866 1.25394051]\n"
     ]
    }
   ],
   "source": [
    "for key, value in data_dict.items():\n",
    "    print(f\"{key}: examples values {value[:5]}\")\n",
    "    \n",
    "example_event_id = int(data_dict[\"simulation_id\"][0])"
   ]
  },
  {
   "cell_type": "markdown",
   "metadata": {},
   "source": [
    "## Need the SNR"
   ]
  },
  {
   "cell_type": "markdown",
   "metadata": {},
   "source": [
    "The SNR is not in this file, but it is in the following file. NOTE: this dataset is stored on the LIGO LDAS CIT cluster, but it is the same as on the LHO cluster as computed by Weizmann at `/home/weizmann.kiendrebeogo/Andrew/HL-SNR-10/runs/`."
   ]
  },
  {
   "cell_type": "code",
   "execution_count": 38,
   "metadata": {},
   "outputs": [
    {
     "name": "stdout",
     "output_type": "stream",
     "text": [
      "keys\n",
      "['coinc_event_id', 'combined_far', 'end_time', 'end_time_ns', 'false_alarm_rate', 'ifos', 'mass', 'mchirp', 'minimum_duration', 'snr']\n",
      "snr_example\n",
      "20.71345431810761\n",
      "end_time_example\n",
      "1026305955\n"
     ]
    }
   ],
   "source": [
    "# Use the EventTable to read the XML file\n",
    "xml_filename = \"/home/thibeau.wouters/gw-datasets/H0_inference_O5/events_O5.xml\" # on CIT!\n",
    "table = EventTable.read(xml_filename, tablename = \"coinc_inspiral\")\n",
    "\n",
    "# Get the keys of this table\n",
    "keys = table.keys()\n",
    "print(\"keys\")\n",
    "print(keys)\n",
    "\n",
    "# Get some specific variables that I want to use\n",
    "simulation_id_xml = np.array(table[\"coinc_event_id\"])\n",
    "snr_xml = np.array(table[\"snr\"])\n",
    "end_time = np.array(table[\"end_time\"])\n",
    "\n",
    "# Show the SNR of the above example\n",
    "idx = np.where(simulation_id_xml == example_event_id)[0][0]\n",
    "snr_example = snr_xml[idx]\n",
    "end_time_example = end_time[idx]\n",
    "\n",
    "print(\"snr_example\")\n",
    "print(snr_example)\n",
    "\n",
    "print(\"end_time_example\")\n",
    "print(end_time_example)"
   ]
  },
  {
   "cell_type": "markdown",
   "metadata": {},
   "source": [
    "This seems to be working fine, now let us put into a complete function"
   ]
  },
  {
   "cell_type": "code",
   "execution_count": 39,
   "metadata": {},
   "outputs": [
    {
     "name": "stdout",
     "output_type": "stream",
     "text": [
      "Examples of SNR and ifos:\n",
      "[20.71345432 11.58412296 31.55944294 10.75187143 10.835764  ]\n",
      "['H1,L1', 'H1,L1', 'H1,L1', 'H1,L1', 'H1,L1']\n"
     ]
    }
   ],
   "source": [
    "snr_array, ifos_array = utils.get_events_info(table, data_dict[\"simulation_id\"])\n",
    "\n",
    "print(\"Examples of SNR and ifos:\")\n",
    "print(snr_array[:5])\n",
    "print(ifos_array[:5])\n",
    "\n",
    "data_dict[\"snr\"] = snr_array\n",
    "data_dict[\"ifos\"] = ifos_array\n",
    "assert len(data_dict[\"ifos\"]) == len(data_dict[\"simulation_id\"]), \"ifos and simulation_id have different lengths\""
   ]
  },
  {
   "cell_type": "markdown",
   "metadata": {},
   "source": [
    "## Choosing the BNS events to tackle"
   ]
  },
  {
   "cell_type": "markdown",
   "metadata": {},
   "source": [
    "Take those with highest SNR, or randomly sample? What are the SNRs if we just take the top 50 ones?"
   ]
  },
  {
   "cell_type": "code",
   "execution_count": 40,
   "metadata": {},
   "outputs": [
    {
     "name": "stdout",
     "output_type": "stream",
     "text": [
      "sorted_snr, first 50\n",
      "[63.47535619 59.65775812 55.42929873 50.72056796 48.6138467  44.61218785\n",
      " 44.0660772  43.3813171  42.57851225 41.41300996 39.6358033  38.80703057\n",
      " 38.62244252 36.54715672 35.57436289 34.4796026  34.30099831 34.28965473\n",
      " 33.74905411 32.59052893 32.55596111 32.2977602  32.16810916 31.55944294\n",
      " 31.44207786 31.03362048 30.39608731 30.3711357  29.88166661 29.58638693\n",
      " 29.28157827 29.20367065 27.82695018 27.2917565  26.93201092 26.7481318\n",
      " 26.40765504 26.11700296 26.09528608 25.68047288 25.4508018  25.18723955\n",
      " 24.92625627 24.91675985 24.90273178 24.76511285 24.76201261 24.36011021\n",
      " 23.67123411 23.29264891]\n"
     ]
    }
   ],
   "source": [
    "# Sort SNR values from high to low, make sure to sort the idx list at the same time\n",
    "sorted_snr_idx = np.argsort(snr_array)[::-1]\n",
    "sorted_snr = snr_array[sorted_snr_idx]\n",
    "sorted_simulation_idx = data_dict[\"simulation_id\"][sorted_snr_idx]\n",
    "\n",
    "print(\"sorted_snr, first 50\")\n",
    "print(sorted_snr[:50])"
   ]
  },
  {
   "cell_type": "markdown",
   "metadata": {},
   "source": [
    "Randomly sample 50 events"
   ]
  },
  {
   "cell_type": "code",
   "execution_count": 41,
   "metadata": {},
   "outputs": [],
   "source": [
    "nb_events = 50\n",
    "sampled_indices = np.random.choice(len(data_dict[\"simulation_id\"]), nb_events, replace = False)"
   ]
  },
  {
   "cell_type": "code",
   "execution_count": 42,
   "metadata": {},
   "outputs": [
    {
     "data": {
      "image/png": "[encoded data removed]",
      "text/plain": [
       "<Figure size 640x480 with 1 Axes>"
      ]
     },
     "metadata": {},
     "output_type": "display_data"
    }
   ],
   "source": [
    "# Show the SNR of the sampled events\n",
    "sampled_snr = snr_array[sampled_indices]\n",
    "\n",
    "hist, bins = np.histogram(snr_array, bins = 20, density=True)\n",
    "hist_sampled, _ = np.histogram(sampled_snr, bins = bins, density=True)\n",
    "plt.stairs(hist, bins, fill = False, color = \"blue\", linewidth = 2, label = \"All events\")\n",
    "plt.stairs(hist_sampled, bins, fill = False, color = \"red\", linewidth = 2, label = \"Random subset\")\n",
    "plt.xlabel(\"SNR\")\n",
    "plt.ylabel(\"Density\")\n",
    "plt.legend()\n",
    "plt.show()"
   ]
  },
  {
   "cell_type": "markdown",
   "metadata": {},
   "source": [
    "## Also need the PSD for the runs -- this is problematic now"
   ]
  },
  {
   "cell_type": "markdown",
   "metadata": {},
   "source": [
    "Again, this is on LDAS, but is also found on LHO.\n",
    "\n",
    "TODO: this is actually a bit more annoying to read and process than I imagined it would be."
   ]
  },
  {
   "cell_type": "code",
   "execution_count": 43,
   "metadata": {},
   "outputs": [
    {
     "name": "stdout",
     "output_type": "stream",
     "text": [
      "keys\n",
      "['comment', 'cvs_entry_time', 'cvs_repository', 'domain', 'end_time', 'ifos', 'is_online', 'jobid', 'node', 'process_id', 'program', 'start_time', 'unix_procid', 'username', 'version']\n",
      "keys\n",
      "['param', 'process_id', 'program', 'type', 'value']\n"
     ]
    }
   ],
   "source": [
    "# Use the EventTable to read the XML file\n",
    "psd_xml_filename = \"/home/thibeau.wouters/gw-datasets/H0_inference_O5/psds_O5.xml\" # on CIT!\n",
    "\n",
    "for name in [\"process\", \"process_params\"]:\n",
    "    psd_table = EventTable.read(psd_xml_filename, tablename = name)\n",
    "\n",
    "    # Get the keys of this table\n",
    "    keys = psd_table.keys()\n",
    "    print(\"keys\")\n",
    "    print(keys)"
   ]
  },
  {
   "cell_type": "markdown",
   "metadata": {},
   "source": [
    "## Testing generation of config files for the injections"
   ]
  },
  {
   "cell_type": "code",
   "execution_count": 44,
   "metadata": {},
   "outputs": [
    {
     "name": "stdout",
     "output_type": "stream",
     "text": [
      "Original dictionary length\n",
      "549\n",
      "New dictionary length\n",
      "50\n"
     ]
    }
   ],
   "source": [
    "print(\"Original dictionary length\")\n",
    "print(len(data_dict[\"simulation_id\"]))\n",
    "\n",
    "filtered_dict = utils.filter_dict_by_indices(data_dict, sampled_indices)\n",
    "\n",
    "print(\"New dictionary length\")\n",
    "print(len(filtered_dict[\"simulation_id\"]))"
   ]
  },
  {
   "cell_type": "markdown",
   "metadata": {},
   "source": [
    "Take an extreme case of a single entry to be saved:"
   ]
  },
  {
   "cell_type": "code",
   "execution_count": 50,
   "metadata": {},
   "outputs": [
    {
     "name": "stdout",
     "output_type": "stream",
     "text": [
      "Original dictionary length\n",
      "549\n",
      "Example dictionary\n",
      "{'simulation_id': 143, 'longitude': 0.61230462, 'latitude': 0.64064238, 'inclination': 0.35073974, 'distance': 398.42167, 'mass1': 1.7044337, 'mass2': 1.6199954, 'spin1z': -0.0017102223, 'spin2z': 0.024478602, 'polarization': 1.2745704650878906, 'coa_phase': 2.6090962886810303, 'geocent_end_time': 1019692834.0, 'geocent_end_time_ns': 507346392.0, 'redshift': 0.08460123736200559, 'source_mass1': 1.5714841927947332, 'source_mass2': 1.4936322624342506, 'snr': 13.22206651854782, 'ifos': 'H1'}\n"
     ]
    }
   ],
   "source": [
    "print(\"Original dictionary length\")\n",
    "print(len(data_dict[\"simulation_id\"]))\n",
    "\n",
    "example_idx = [25] # chosen because of its low spin: see below\n",
    "filtered_dict = utils.filter_dict_by_indices(data_dict, example_idx)\n",
    "\n",
    "print(\"Example dictionary\")\n",
    "print(filtered_dict)"
   ]
  },
  {
   "cell_type": "code",
   "execution_count": 53,
   "metadata": {},
   "outputs": [
    {
     "name": "stdout",
     "output_type": "stream",
     "text": [
      "Made injection directory:  ./test/injection_143/\n",
      "Injection directory exists:  ./test/injection_143/\n"
     ]
    },
    {
     "data": {
      "text/plain": [
       "{'seed': 9435,\n",
       " 'ifos': ['H1'],\n",
       " 'outdir': './test/injection_143/',\n",
       " 'snr': 13.22206651854782,\n",
       " 'f_sampling': 4096,\n",
       " 'fmin': 20,\n",
       " 'fref': 20,\n",
       " 'trigger_time': 1019692834.0,\n",
       " 'duration': 128,\n",
       " 'post_trigger_duration': 2,\n",
       " 'M_c': 1.3336529731750488,\n",
       " 'q': 0.9504596160003173,\n",
       " 's1_z': -0.0017102223,\n",
       " 's2_z': 0.024478602,\n",
       " 'd_L': 398.42167,\n",
       " 't_c': 0.0,\n",
       " 'phase_c': 2.6090962886810303,\n",
       " 'cos_iota': 0.9391188006268923,\n",
       " 'psi': 1.2745704650878906,\n",
       " 'ra': 0.61230462,\n",
       " 'sin_dec': 0.5977105683829436}"
      ]
     },
     "execution_count": 53,
     "metadata": {},
     "output_type": "execute_result"
    }
   ],
   "source": [
    "test_injection = utils.generate_config(filtered_dict, \"./test/\")\n",
    "test_injection"
   ]
  },
  {
   "cell_type": "markdown",
   "metadata": {},
   "source": [
    "## Spins are large? Investigation"
   ]
  },
  {
   "cell_type": "code",
   "execution_count": 47,
   "metadata": {},
   "outputs": [
    {
     "data": {
      "image/png": "[encoded data removed]",
      "text/plain": [
       "<Figure size 640x480 with 1 Axes>"
      ]
     },
     "metadata": {},
     "output_type": "display_data"
    }
   ],
   "source": [
    "s1z = data_dict[\"spin1z\"]\n",
    "s2z = data_dict[\"spin2z\"]\n",
    "\n",
    "hist_1, bins = np.histogram(s1z, bins = 20, density=True)\n",
    "hist_2, _ = np.histogram(s2z, bins = bins, density=True)\n",
    "\n",
    "for hist, label in zip([hist_1, hist_2], [\"Spin 1\", \"Spin 2\"]):\n",
    "    plt.stairs(hist, bins, fill = False, linewidth = 2, label = label)\n",
    "plt.legend()\n",
    "plt.xlabel(\"Spin\")\n",
    "plt.ylabel(\"Density\")\n",
    "plt.show()"
   ]
  },
  {
   "cell_type": "code",
   "execution_count": 49,
   "metadata": {},
   "outputs": [
    {
     "name": "stdout",
     "output_type": "stream",
     "text": [
      "Number of events with spins between -0.05 and 0.05: 73\n",
      "low_spin_indices\n",
      "[10, 14, 25, 27, 32, 46, 47, 50, 60, 61, 65, 83, 86, 87, 102, 103, 108, 113, 114, 116, 117, 125, 136, 139, 140, 162, 169, 170, 180, 184, 194, 196, 197, 200, 208, 212, 213, 221, 228, 242, 259, 264, 266, 276, 291, 296, 298, 308, 314, 321, 328, 346, 354, 363, 391, 394, 409, 416, 423, 429, 430, 432, 441, 443, 458, 463, 465, 488, 500, 505, 524, 541, 547]\n",
      "25\n",
      "-0.0017102223\n",
      "0.024478602\n"
     ]
    }
   ],
   "source": [
    "# Count how many events have a spins 1 and 2 between -0.05 and 0.05\n",
    "low_spin_indices = []\n",
    "\n",
    "nb_events_low_spin = 0\n",
    "for i, (s1, s2) in enumerate(zip(s1z, s2z)):\n",
    "    if -0.05 < s1 < 0.05 and -0.05 < s2 < 0.05:\n",
    "        nb_events_low_spin += 1\n",
    "        low_spin_indices.append(i)\n",
    "        \n",
    "print(f\"Number of events with spins between -0.05 and 0.05: {nb_events_low_spin}\")\n",
    "\n",
    "print(\"low_spin_indices\")\n",
    "print(low_spin_indices)\n",
    "\n",
    "test_idx = low_spin_indices[2]\n",
    "print(test_idx)\n",
    "print(data_dict[\"spin1z\"][test_idx])\n",
    "print(data_dict[\"spin2z\"][test_idx])"
   ]
  },
  {
   "cell_type": "markdown",
   "metadata": {},
   "source": [
    "## What priors should I use?"
   ]
  },
  {
   "cell_type": "markdown",
   "metadata": {},
   "source": [
    "For distance:"
   ]
  },
  {
   "cell_type": "code",
   "execution_count": 56,
   "metadata": {},
   "outputs": [
    {
     "name": "stdout",
     "output_type": "stream",
     "text": [
      "dL varies between 64.043087 and 1969.633\n"
     ]
    }
   ],
   "source": [
    "dL = data_dict[\"distance\"]\n",
    "print(f\"dL varies between {np.min(dL)} and {np.max(dL)}\")"
   ]
  },
  {
   "cell_type": "code",
   "execution_count": 64,
   "metadata": {},
   "outputs": [
    {
     "name": "stdout",
     "output_type": "stream",
     "text": [
      "m1 varies between 1.165401132017992 and 2.9580925863349057\n",
      "m2 varies between 1.0775479143315756 and 2.7747819657642503\n",
      "\n",
      "mc varies between 1.00662100315094 and 2.44429349899292\n"
     ]
    }
   ],
   "source": [
    "m1 = data_dict[\"source_mass1\"]\n",
    "m2 = data_dict[\"source_mass2\"]\n",
    "print(f\"m1 varies between {np.min(m1)} and {np.max(m1)}\")\n",
    "print(f\"m2 varies between {np.min(m2)} and {np.max(m2)}\\n\")\n",
    "\n",
    "# Compute the chirp mass for this\n",
    "mc, _ = ms_to_Mc_eta(jnp.array([m1, m2]))\n",
    "print(f\"mc varies between {np.min(mc)} and {np.max(mc)}\")"
   ]
  },
  {
   "cell_type": "code",
   "execution_count": null,
   "metadata": {},
   "outputs": [],
   "source": []
  }
 ],
 "metadata": {
  "kernelspec": {
   "display_name": "Python 3",
   "language": "python",
   "name": "python3"
  },
  "language_info": {
   "codemirror_mode": {
    "name": "ipython",
    "version": 3
   },
   "file_extension": ".py",
   "mimetype": "text/x-python",
   "name": "python",
   "nbconvert_exporter": "python",
   "pygments_lexer": "ipython3",
   "version": "3.10.13"
  },
  "orig_nbformat": 4
 },
 "nbformat": 4,
 "nbformat_minor": 2
}
