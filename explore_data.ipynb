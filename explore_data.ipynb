{
 "cells": [
  {
   "cell_type": "markdown",
   "metadata": {},
   "source": [
    "# Explore data"
   ]
  },
  {
   "cell_type": "markdown",
   "metadata": {},
   "source": [
    "Simple notebook to explore the dataset"
   ]
  },
  {
   "cell_type": "code",
   "execution_count": 2,
   "metadata": {},
   "outputs": [
    {
     "name": "stderr",
     "output_type": "stream",
     "text": [
      "/home/thibeau.wouters/miniconda3/envs/jim_H0/lib/python3.10/site-packages/gwpy/time/__init__.py:36: UserWarning: Wswiglal-redir-stdio:\n",
      "\n",
      "SWIGLAL standard output/error redirection is enabled in IPython.\n",
      "This may lead to performance penalties. To disable locally, use:\n",
      "\n",
      "with lal.no_swig_redirect_standard_output_error():\n",
      "    ...\n",
      "\n",
      "To disable globally, use:\n",
      "\n",
      "lal.swig_redirect_standard_output_error(True)\n",
      "\n",
      "Note however that this will likely lead to error messages from\n",
      "LAL functions being either misdirected or lost when called from\n",
      "Jupyter notebooks.\n",
      "\n",
      "To suppress this warning, use:\n",
      "\n",
      "import warnings\n",
      "warnings.filterwarnings(\"ignore\", \"Wswiglal-redir-stdio\")\n",
      "import lal\n",
      "\n",
      "  from lal import LIGOTimeGPS\n"
     ]
    }
   ],
   "source": [
    "import numpy as np\n",
    "np.random.seed(0)\n",
    "import matplotlib.pyplot as plt\n",
    "import utils\n",
    "from gwpy.table import EventTable\n",
    "# from astropy.table import Table, join\n",
    "# from astropy import units as u\n",
    "# from astropy.cosmology import Planck18 as cosmo, z_at_value\n",
    "\n",
    "rcparams = {\"axes.grid\": True,\n",
    "        \"text.usetex\" : True,\n",
    "        \"font.family\" : \"serif\",\n",
    "        \"ytick.color\" : \"black\",\n",
    "        \"xtick.color\" : \"black\",\n",
    "        \"axes.labelcolor\" : \"black\",\n",
    "        \"axes.edgecolor\" : \"black\",\n",
    "        \"font.serif\" : [\"Computer Modern Serif\"],\n",
    "        \"xtick.labelsize\": 16,\n",
    "        \"ytick.labelsize\": 16,\n",
    "        \"axes.labelsize\": 16,\n",
    "        \"legend.fontsize\": 16,\n",
    "        \"legend.title_fontsize\": 16,\n",
    "        \"figure.titlesize\": 16}\n",
    "\n",
    "plt.rcParams.update(rcparams)"
   ]
  },
  {
   "cell_type": "markdown",
   "metadata": {},
   "source": [
    "## Load in the selected detected events:"
   ]
  },
  {
   "cell_type": "code",
   "execution_count": 3,
   "metadata": {},
   "outputs": [],
   "source": [
    "data_dir = \"./data_split/\"\n",
    "bns_o5 = data_dir + \"bns_O5HL_injections.dat\"\n",
    "data_dict = utils.read_injections_file(bns_o5)"
   ]
  },
  {
   "cell_type": "markdown",
   "metadata": {},
   "source": [
    "Sanity checking the code:"
   ]
  },
  {
   "cell_type": "code",
   "execution_count": 4,
   "metadata": {},
   "outputs": [
    {
     "name": "stdout",
     "output_type": "stream",
     "text": [
      "simulation_id: examples valuess [ 9. 14. 21. 23. 24.]\n",
      "longitude: examples valuess [3.7971859  4.5625499  0.96535827 3.3950243  2.4084685 ]\n",
      "latitude: examples valuess [ 0.87535684 -0.00339247  1.405876   -0.33706707  0.0869114 ]\n",
      "inclination: examples valuess [0.38678959 0.32873468 2.6485628  2.3010108  0.26154381]\n",
      "distance: examples valuess [203.77752 636.56451 226.54627 487.65838 443.7946 ]\n",
      "mass1: examples valuess [2.0644817 1.9580471 2.1042908 2.1821147 2.0891864]\n",
      "mass2: examples valuess [1.6678797 1.4436337 1.7786805 1.9537788 1.3713884]\n",
      "spin1z: examples valuess [-0.06107824 -0.0595872  -0.09220774 -0.14975753  0.07147652]\n",
      "spin2z: examples valuess [-0.0003123  -0.01736595  0.10383004 -0.05204631 -0.05826461]\n",
      "polarization: examples valuess [1.33792651 6.27256107 5.72252846 3.25340319 1.80338764]\n",
      "coa_phase: examples valuess [-2.08128214 -2.9611845   0.80135041  0.14345084 -2.74263024]\n",
      "geocent_end_time: examples valuess [1.02630596e+09 1.02778482e+09 1.02535090e+09 1.02246412e+09\n",
      " 1.02606043e+09]\n",
      "geocent_end_time_ns: examples valuess [4.87770796e+08 7.82459617e+08 2.86546469e+08 9.57714438e+08\n",
      " 6.66605115e+08]\n",
      "redshift: examples valuess [0.04449715 0.13111233 0.04929936 0.10232975 0.09366305]\n",
      "source_mass1: examples valuess [1.97653167 1.73108104 2.00542465 1.97954804 1.91026514]\n",
      "source_mass2: examples valuess [1.59682551 1.27629561 1.69511254 1.77240866 1.25394051]\n"
     ]
    }
   ],
   "source": [
    "for key, value in data_dict.items():\n",
    "    print(f\"{key}: examples values {value[:5]}\")\n",
    "    \n",
    "example_event_id = int(data_dict[\"simulation_id\"][0])"
   ]
  },
  {
   "cell_type": "markdown",
   "metadata": {},
   "source": [
    "## Need the SNR"
   ]
  },
  {
   "cell_type": "markdown",
   "metadata": {},
   "source": [
    "The SNR is not in this file, but it is in the following file. NOTE: this dataset is stored on the LIGO LDAS CIT cluster, but it is the same as on the LHO cluster as computed by Weizmann at `/home/weizmann.kiendrebeogo/Andrew/HL-SNR-10/runs/`."
   ]
  },
  {
   "cell_type": "code",
   "execution_count": 5,
   "metadata": {},
   "outputs": [
    {
     "name": "stdout",
     "output_type": "stream",
     "text": [
      "keys\n",
      "['coinc_event_id', 'combined_far', 'end_time', 'end_time_ns', 'false_alarm_rate', 'ifos', 'mass', 'mchirp', 'minimum_duration', 'snr']\n",
      "snr_example\n",
      "20.71345431810761\n",
      "end_time_example\n",
      "1026305955\n"
     ]
    }
   ],
   "source": [
    "# Use the EventTable to read the XML file\n",
    "xml_filename = \"/home/thibeau.wouters/gw-datasets/H0_inference_O5/events_O5.xml\" # on CIT!\n",
    "table = EventTable.read(xml_filename, tablename = \"coinc_inspiral\")\n",
    "\n",
    "# Get the keys of this table\n",
    "keys = table.keys()\n",
    "print(\"keys\")\n",
    "print(keys)\n",
    "\n",
    "# Get some specific variables that I want to use\n",
    "simulation_id_xml = np.array(table[\"coinc_event_id\"])\n",
    "snr_xml = np.array(table[\"snr\"])\n",
    "end_time = np.array(table[\"end_time\"])\n",
    "\n",
    "# Show the SNR of the above example\n",
    "idx = np.where(simulation_id_xml == example_event_id)[0][0]\n",
    "snr_example = snr_xml[idx]\n",
    "end_time_example = end_time[idx]\n",
    "\n",
    "print(\"snr_example\")\n",
    "print(snr_example)\n",
    "\n",
    "print(\"end_time_example\")\n",
    "print(end_time_example)"
   ]
  },
  {
   "cell_type": "markdown",
   "metadata": {},
   "source": [
    "This seems to be working fine, now let us put into a complete function"
   ]
  },
  {
   "cell_type": "code",
   "execution_count": 13,
   "metadata": {},
   "outputs": [
    {
     "name": "stdout",
     "output_type": "stream",
     "text": [
      "Examples of SNR and ifos:\n",
      "[20.71345432 11.58412296 31.55944294 10.75187143 10.835764  ]\n",
      "['H1,L1', 'H1,L1', 'H1,L1', 'H1,L1', 'H1,L1']\n"
     ]
    },
    {
     "name": "stderr",
     "output_type": "stream",
     "text": [
      "[autoreload of utils failed: Traceback (most recent call last):\n",
      "  File \"/home/thibeau.wouters/miniconda3/envs/jim_H0/lib/python3.10/site-packages/IPython/extensions/autoreload.py\", line 276, in check\n",
      "    superreload(m, reload, self.old_objects)\n",
      "  File \"/home/thibeau.wouters/miniconda3/envs/jim_H0/lib/python3.10/site-packages/IPython/extensions/autoreload.py\", line 475, in superreload\n",
      "    module = reload(module)\n",
      "  File \"/home/thibeau.wouters/miniconda3/envs/jim_H0/lib/python3.10/importlib/__init__.py\", line 169, in reload\n",
      "    _bootstrap._exec(spec, module)\n",
      "  File \"<frozen importlib._bootstrap>\", line 619, in _exec\n",
      "  File \"<frozen importlib._bootstrap_external>\", line 883, in exec_module\n",
      "  File \"<frozen importlib._bootstrap>\", line 241, in _call_with_frames_removed\n",
      "  File \"/home/thibeau.wouters/projects/jim_H0/utils.py\", line 15, in <module>\n",
      "    from ripplegw import ms_to_Mc_eta\n",
      "ModuleNotFoundError: No module named 'ripplegw'\n",
      "]\n"
     ]
    }
   ],
   "source": [
    "snr_array, ifos_array = utils.get_events_info(table, data_dict[\"simulation_id\"])\n",
    "\n",
    "print(\"Examples of SNR and ifos:\")\n",
    "print(snr_array[:5])\n",
    "print(ifos_array[:5])\n",
    "\n",
    "data_dict[\"ifos\"] = ifos_array\n",
    "assert len(data_dict[\"ifos\"]) == len(data_dict[\"simulation_id\"]), \"ifos and simulation_id have different lengths\""
   ]
  },
  {
   "cell_type": "markdown",
   "metadata": {},
   "source": [
    "## Choosing the BNS events to tackle"
   ]
  },
  {
   "cell_type": "markdown",
   "metadata": {},
   "source": [
    "Take those with highest SNR, or randomly sample? What are the SNRs if we just take the top 50 ones?"
   ]
  },
  {
   "cell_type": "code",
   "execution_count": 10,
   "metadata": {},
   "outputs": [
    {
     "name": "stdout",
     "output_type": "stream",
     "text": [
      "sorted_snr, first 50\n",
      "[63.47535619 59.65775812 55.42929873 50.72056796 48.6138467  44.61218785\n",
      " 44.0660772  43.3813171  42.57851225 41.41300996 39.6358033  38.80703057\n",
      " 38.62244252 36.54715672 35.57436289 34.4796026  34.30099831 34.28965473\n",
      " 33.74905411 32.59052893 32.55596111 32.2977602  32.16810916 31.55944294\n",
      " 31.44207786 31.03362048 30.39608731 30.3711357  29.88166661 29.58638693\n",
      " 29.28157827 29.20367065 27.82695018 27.2917565  26.93201092 26.7481318\n",
      " 26.40765504 26.11700296 26.09528608 25.68047288 25.4508018  25.18723955\n",
      " 24.92625627 24.91675985 24.90273178 24.76511285 24.76201261 24.36011021\n",
      " 23.67123411 23.29264891]\n"
     ]
    }
   ],
   "source": [
    "# Sort SNR values from high to low, make sure to sort the idx list at the same time\n",
    "sorted_snr_idx = np.argsort(snr_array)[::-1]\n",
    "sorted_snr = snr_array[sorted_snr_idx]\n",
    "sorted_simulation_idx = data_dict[\"simulation_id\"][sorted_snr_idx]\n",
    "\n",
    "print(\"sorted_snr, first 50\")\n",
    "print(sorted_snr[:50])"
   ]
  },
  {
   "cell_type": "markdown",
   "metadata": {},
   "source": [
    "Randomly sample 50 events"
   ]
  },
  {
   "cell_type": "code",
   "execution_count": 11,
   "metadata": {},
   "outputs": [],
   "source": [
    "nb_events = 50\n",
    "sampled_indices = np.random.choice(len(data_dict[\"simulation_id\"]), nb_events, replace = False)"
   ]
  },
  {
   "cell_type": "code",
   "execution_count": 12,
   "metadata": {},
   "outputs": [
    {
     "data": {
      "image/png": "[encoded data removed]",
      "text/plain": [
       "<Figure size 640x480 with 1 Axes>"
      ]
     },
     "metadata": {},
     "output_type": "display_data"
    }
   ],
   "source": [
    "# Show the SNR of the sampled events\n",
    "sampled_snr = snr_array[sampled_indices]\n",
    "\n",
    "hist, bins = np.histogram(snr_array, bins = 20, density=True)\n",
    "hist_sampled, _ = np.histogram(sampled_snr, bins = bins, density=True)\n",
    "plt.stairs(hist, bins, fill = False, color = \"blue\", linewidth = 2, label = \"All events\")\n",
    "plt.stairs(hist_sampled, bins, fill = False, color = \"red\", linewidth = 2, label = \"Random subset\")\n",
    "plt.xlabel(\"SNR\")\n",
    "plt.ylabel(\"Density\")\n",
    "plt.legend()\n",
    "plt.show()"
   ]
  },
  {
   "cell_type": "markdown",
   "metadata": {},
   "source": [
    "## Also need the PSD for the runs"
   ]
  },
  {
   "cell_type": "markdown",
   "metadata": {},
   "source": [
    "Again, this is on LDAS, but is also found on LHO.\n",
    "\n",
    "TODO: this is actually a bit more annoying to read and process than I imagined it would be."
   ]
  },
  {
   "cell_type": "code",
   "execution_count": null,
   "metadata": {},
   "outputs": [
    {
     "name": "stdout",
     "output_type": "stream",
     "text": [
      "keys\n",
      "['comment', 'cvs_entry_time', 'cvs_repository', 'domain', 'end_time', 'ifos', 'is_online', 'jobid', 'node', 'process_id', 'program', 'start_time', 'unix_procid', 'username', 'version']\n",
      "keys\n",
      "['param', 'process_id', 'program', 'type', 'value']\n"
     ]
    }
   ],
   "source": [
    "# Use the EventTable to read the XML file\n",
    "psd_xml_filename = \"/home/thibeau.wouters/gw-datasets/H0_inference_O5/psds_O5.xml\" # on CIT!\n",
    "\n",
    "for name in [\"process\", \"process_params\"]:\n",
    "    psd_table = EventTable.read(psd_xml_filename, tablename = name)\n",
    "\n",
    "    # Get the keys of this table\n",
    "    keys = psd_table.keys()\n",
    "    print(\"keys\")\n",
    "    print(keys)"
   ]
  },
  {
   "cell_type": "code",
   "execution_count": null,
   "metadata": {},
   "outputs": [],
   "source": []
  }
 ],
 "metadata": {
  "kernelspec": {
   "display_name": "Python 3",
   "language": "python",
   "name": "python3"
  },
  "language_info": {
   "codemirror_mode": {
    "name": "ipython",
    "version": 3
   },
   "file_extension": ".py",
   "mimetype": "text/x-python",
   "name": "python",
   "nbconvert_exporter": "python",
   "pygments_lexer": "ipython3",
   "version": "3.10.13"
  },
  "orig_nbformat": 4
 },
 "nbformat": 4,
 "nbformat_minor": 2
}
