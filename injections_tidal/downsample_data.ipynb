{
 "cells": [
  {
   "cell_type": "markdown",
   "metadata": {},
   "source": [
    "# Downsampling"
   ]
  },
  {
   "cell_type": "markdown",
   "metadata": {},
   "source": [
    "Need to downsample the data in order to store it on Github."
   ]
  },
  {
   "cell_type": "code",
   "execution_count": 7,
   "metadata": {},
   "outputs": [
    {
     "name": "stdout",
     "output_type": "stream",
     "text": [
      "['injection_3912', 'injection_541', 'injection_143', 'injection_4748', 'injection_404', 'injection_4139', 'injection_2949', 'injection_1920', 'injection_1247', 'injection_419', 'injection_868', 'injection_1316', 'injection_81', 'injection_3875', 'injection_532', 'injection_795', 'injection_4397', 'injection_2335', 'injection_2097', 'injection_3938', 'injection_1017', 'injection_1654', 'injection_187', 'injection_4019', 'injection_4627', 'injection_2786', 'injection_1572', 'injection_1032', 'injection_1064', 'injection_3267', 'injection_3554', 'injection_3904', 'injection_2810', 'injection_737', 'injection_399', 'injection_4543']\n"
     ]
    }
   ],
   "source": [
    "import os\n",
    "import numpy as np\n",
    "import matplotlib.pyplot as plt\n",
    "import corner\n",
    "\n",
    "outdir = \"./outdir/\"\n",
    "run_dirs = os.listdir(outdir)\n",
    "print(run_dirs)\n",
    "save_location = \"./downsampled_data/\""
   ]
  },
  {
   "cell_type": "markdown",
   "metadata": {},
   "source": [
    "## Saving the downsampled data\n"
   ]
  },
  {
   "cell_type": "code",
   "execution_count": 9,
   "metadata": {},
   "outputs": [],
   "source": [
    "downsample_factor = 20\n",
    "\n",
    "for run_id in run_dirs:\n",
    "    path = os.path.join(outdir, run_id, \"results_production.npz\")\n",
    "    \n",
    "    # Load the data\n",
    "    data = np.load(path)\n",
    "    chains = data['chains']\n",
    "    log_prob = data['log_prob']\n",
    "    \n",
    "    chains = chains.reshape((-1, chains.shape[-1]))\n",
    "    log_prob = log_prob.reshape((-1,))\n",
    "    \n",
    "    # Downsample\n",
    "    chains = chains[::downsample_factor]\n",
    "    log_prob = log_prob[::downsample_factor]\n",
    "    \n",
    "    # Save to new file\n",
    "    new_location = os.path.join(save_location, run_id)\n",
    "    np.savez(new_location, chains=chains, log_prob=log_prob)"
   ]
  },
  {
   "cell_type": "markdown",
   "metadata": {},
   "source": [
    "## Loading and checking the data"
   ]
  },
  {
   "cell_type": "code",
   "execution_count": 11,
   "metadata": {},
   "outputs": [
    {
     "name": "stdout",
     "output_type": "stream",
     "text": [
      "(38000, 13)\n"
     ]
    }
   ],
   "source": [
    "example = np.load(new_location + \".npz\")\n",
    "chains = example['chains']\n",
    "print(np.shape(chains))"
   ]
  },
  {
   "cell_type": "code",
   "execution_count": null,
   "metadata": {},
   "outputs": [],
   "source": []
  }
 ],
 "metadata": {
  "kernelspec": {
   "display_name": "Python 3",
   "language": "python",
   "name": "python3"
  },
  "language_info": {
   "codemirror_mode": {
    "name": "ipython",
    "version": 3
   },
   "file_extension": ".py",
   "mimetype": "text/x-python",
   "name": "python",
   "nbconvert_exporter": "python",
   "pygments_lexer": "ipython3",
   "version": "3.10.13"
  },
  "orig_nbformat": 4
 },
 "nbformat": 4,
 "nbformat_minor": 2
}
