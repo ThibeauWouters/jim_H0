{
 "cells": [
  {
   "cell_type": "markdown",
   "metadata": {},
   "source": [
    "# Analyze runs"
   ]
  },
  {
   "cell_type": "markdown",
   "metadata": {},
   "source": [
    "Small notebook to show how to read the runs and fetch their data/analyze the result"
   ]
  },
  {
   "cell_type": "code",
   "execution_count": 9,
   "metadata": {},
   "outputs": [],
   "source": [
    "# # On CIT, you need to load the following modules, otherwise the script breaks\n",
    "# import psutil\n",
    "# p = psutil.Process()\n",
    "# p.cpu_affinity([0])\n",
    "\n",
    "import os\n",
    "# os.environ[\"CUDA_VISIBLE_DEVICES\"] = \"-1\"\n",
    "import numpy as np\n",
    "import matplotlib.pyplot as plt\n",
    "# import corner\n",
    "import json\n",
    "\n",
    "from bilby.gw.conversion import chirp_mass_and_mass_ratio_to_component_masses\n",
    "\n",
    "# Matplotlib and corner settings:\n",
    "params = {\"axes.grid\": True,\n",
    "        \"text.usetex\" : True,\n",
    "        \"font.family\" : \"serif\",\n",
    "        \"ytick.color\" : \"black\",\n",
    "        \"xtick.color\" : \"black\",\n",
    "        \"axes.labelcolor\" : \"black\",\n",
    "        \"axes.edgecolor\" : \"black\",\n",
    "        \"font.serif\" : [\"Computer Modern Serif\"],\n",
    "        \"xtick.labelsize\": 16,\n",
    "        \"ytick.labelsize\": 16,\n",
    "        \"axes.labelsize\": 16,\n",
    "        \"legend.fontsize\": 16,\n",
    "        \"legend.title_fontsize\": 16,\n",
    "        \"figure.titlesize\": 16}\n",
    "\n",
    "plt.rcParams.update(params)\n",
    "\n",
    "# Improved corner kwargs\n",
    "default_corner_kwargs = dict(bins=40, \n",
    "                        smooth=1., \n",
    "                        show_titles=False,\n",
    "                        label_kwargs=dict(fontsize=16),\n",
    "                        title_kwargs=dict(fontsize=16), \n",
    "                        color=\"blue\",\n",
    "                        # quantiles=[],\n",
    "                        # levels=[0.9],\n",
    "                        plot_density=True, \n",
    "                        plot_datapoints=False, \n",
    "                        fill_contours=True,\n",
    "                        max_n_ticks=4, \n",
    "                        min_n_ticks=3,\n",
    "                        save=False)"
   ]
  },
  {
   "cell_type": "markdown",
   "metadata": {},
   "source": [
    "## Runs location"
   ]
  },
  {
   "cell_type": "markdown",
   "metadata": {},
   "source": [
    "The runs are saved on CIT in the following `outdir`. Each subdirectory is a separate injection, and has an identifier that is the `simulation_id` as outputted from Weizmann's runs. \n",
    "The final posterior samples are saved in `results_production.npz` in each subdirectory."
   ]
  },
  {
   "cell_type": "code",
   "execution_count": 5,
   "metadata": {},
   "outputs": [
    {
     "name": "stdout",
     "output_type": "stream",
     "text": [
      "Example subdir: /home/thibeau.wouters/projects/jim_H0/injections_tidal/outdir/injection_3912/\n",
      "There are 36 runs\n",
      "File /home/thibeau.wouters/projects/jim_H0/injections_tidal/outdir/injection_737/results_production.npz does not exist -- this run was aborted\n"
     ]
    }
   ],
   "source": [
    "outdir = \"/home/thibeau.wouters/projects/jim_H0/injections_tidal/outdir/\" # on CIT\n",
    "\n",
    "run_dirs = os.listdir(outdir)\n",
    "run_dirs = [outdir + run_dir + \"/\" for run_dir in run_dirs]\n",
    "example_dir = run_dirs[0]\n",
    "\n",
    "# Show example\n",
    "print(f\"Example subdir: {example_dir}\")\n",
    "print(f\"There are {len(run_dirs)} runs\")\n",
    "\n",
    "# Sometimes, the run might be incomplete, so we need to check if the file results_production.npz exists:\n",
    "for d in run_dirs:\n",
    "    file = d + \"results_production.npz\"\n",
    "    if not os.path.isfile(file):\n",
    "        print(f\"File {file} does not exist -- this run was aborted\")"
   ]
  },
  {
   "cell_type": "markdown",
   "metadata": {},
   "source": [
    "The naming/order of the parameters are as follows (for more information regarding definition of parameters see Table 2 of [our paper](https://arxiv.org/abs/2404.11397) -- the ranges of parameters are different here though)"
   ]
  },
  {
   "cell_type": "code",
   "execution_count": 6,
   "metadata": {},
   "outputs": [],
   "source": [
    "NAMING = ['M_c', 'q', 's1_z', 's2_z', 'lambda_1', 'lambda_2', 'd_L', 't_c', 'phase_c', 'cos_iota', 'psi', 'ra', 'sin_dec']\n",
    "NAMING_no_lambda = ['M_c', 'q', 's1_z', 's2_z', 'd_L', 't_c', 'phase_c', 'cos_iota', 'psi', 'ra', 'sin_dec'] # needed below when loading/plotting"
   ]
  },
  {
   "cell_type": "markdown",
   "metadata": {},
   "source": [
    "## Injected parameters"
   ]
  },
  {
   "cell_type": "markdown",
   "metadata": {},
   "source": [
    "In each subdirectory, the injected parameters are saved in `config.json`, and they can be loaded as follows:"
   ]
  },
  {
   "cell_type": "code",
   "execution_count": 10,
   "metadata": {},
   "outputs": [],
   "source": [
    "def load_true_params_from_config(outdir, convert_masses: bool = True):\n",
    "    \"\"\"\n",
    "    Load the true parameters from the config file. This function also converts Mc and eta to m1 and m2 if desired.     \n",
    "\n",
    "    Args:\n",
    "        outdir (str): Outdir where the run is located\n",
    "        convert_masses (bool, optional): Whether to convert Mc and q to m1 and m2. Defaults to True.\n",
    "\n",
    "    Returns:\n",
    "        np.array: The injected parameters as an array. See naming no lambdas for details.\n",
    "    \"\"\"\n",
    "    \n",
    "    config = outdir + 'config.json'\n",
    "    # Load the config   \n",
    "    with open(config) as f:\n",
    "        config = json.load(f)\n",
    "        \n",
    "    if convert_masses:\n",
    "        true_params = np.array([config[key] for key in NAMING_no_lambda])\n",
    "        mc, q = true_params[0], true_params[1]\n",
    "        m1, m2 = chirp_mass_and_mass_ratio_to_component_masses(mc, q)\n",
    "        \n",
    "        true_params[0] = m1\n",
    "        true_params[1] = m2\n",
    "    \n",
    "    ## TODO: get masses if desired?\n",
    "    # m1, m2 = Mc_eta_to_ms(np.array([mc, eta]))\n",
    "    # lambda1, lambda2 = get_lambda(m1), get_lambda(m2)\n",
    "    \n",
    "    # true_params = np.insert(true_params, 4, lambda1)\n",
    "    # true_params = np.insert(true_params, 5, lambda2)\n",
    "    \n",
    "    # Convert cos_iota and sin_dec to iota and dec\n",
    "    cos_iota_index = NAMING_no_lambda.index('cos_iota')\n",
    "    sin_dec_index = NAMING_no_lambda.index('sin_dec')\n",
    "    true_params[cos_iota_index] = np.arccos(true_params[cos_iota_index])\n",
    "    true_params[sin_dec_index] = np.arcsin(true_params[sin_dec_index])\n",
    "    \n",
    "    return true_params"
   ]
  },
  {
   "cell_type": "markdown",
   "metadata": {},
   "source": [
    "We load a single file with the results of the injection: ignore log prob, local accs, and global accs: these are to diagnoze the sampler. The chains have shape `(n_chains, n_steps, n_dim)`."
   ]
  },
  {
   "cell_type": "code",
   "execution_count": 15,
   "metadata": {},
   "outputs": [
    {
     "name": "stdout",
     "output_type": "stream",
     "text": [
      "Contents of example file: NpzFile '/home/thibeau.wouters/projects/jim_H0/injections_tidal/outdir/injection_3912/results_production.npz' with keys: chains, log_prob, local_accs, global_accs\n",
      "Shape of chains: (1000, 760, 13)\n",
      "Example of injected params: \n",
      "m1: 1.852844181348028\n",
      "m2: 1.5420775974655332\n",
      "s1_z: -0.04327765\n",
      "s2_z: -0.035384854\n",
      "d_L: 584.16877\n",
      "t_c: 0.0\n",
      "phase_c: -3.051407814025879\n",
      "cos_iota: 0.59487178\n",
      "psi: 5.933746814727783\n",
      "ra: 2.9573194\n",
      "sin_dec: 0.5458782699999999\n"
     ]
    }
   ],
   "source": [
    "example_file = np.load(example_dir + \"results_production.npz\")\n",
    "print(f\"Contents of example file: {example_file}\")\n",
    "\n",
    "chains = example_file['chains']\n",
    "print(f\"Shape of chains: {chains.shape}\")\n",
    "\n",
    "example_params = load_true_params_from_config(example_dir, convert_masses=True)\n",
    "print(f\"Example of injected params: \")\n",
    "\n",
    "for i, (key, value) in enumerate(zip(NAMING_no_lambda, example_params)):\n",
    "    if i == 0:\n",
    "        key = \"m1\"\n",
    "    if i == 1:\n",
    "        key = \"m2\"\n",
    "    print(f\"{key}: {example_params[i]}\")"
   ]
  },
  {
   "cell_type": "markdown",
   "metadata": {},
   "source": [
    "## dL histogram"
   ]
  },
  {
   "cell_type": "code",
   "execution_count": 18,
   "metadata": {},
   "outputs": [],
   "source": [
    "def get_injection_values(rundir_list: str, key: str = \"d_L\") -> np.array:\n",
    "    # Iterate over all rundirs, fetch the dL from the config.json\n",
    "    dL_list = []\n",
    "    \n",
    "    for d in rundir_list:\n",
    "        config = d + 'config.json'\n",
    "        # Load the config   \n",
    "        with open(config) as f:\n",
    "            config = json.load(f)\n",
    "            \n",
    "        dL_list.append(config[key])\n",
    "        \n",
    "    return np.array(dL_list)"
   ]
  },
  {
   "cell_type": "markdown",
   "metadata": {},
   "source": [
    "Example"
   ]
  },
  {
   "cell_type": "code",
   "execution_count": 20,
   "metadata": {},
   "outputs": [
    {
     "data": {
      "image/png": "[encoded data removed]",
      "text/plain": [
       "<Figure size 640x480 with 1 Axes>"
      ]
     },
     "metadata": {},
     "output_type": "display_data"
    }
   ],
   "source": [
    "dL_list = get_injection_values(run_dirs, key=\"d_L\")\n",
    "plt.hist(dL_list, bins=20, color = \"blue\", linewidth=2, histtype='step')\n",
    "plt.xlabel(\"Luminosity distance [Mpc]\")\n",
    "plt.ylabel(\"Counts\")\n",
    "plt.show()"
   ]
  },
  {
   "cell_type": "markdown",
   "metadata": {},
   "source": [
    "## SNR"
   ]
  },
  {
   "cell_type": "markdown",
   "metadata": {},
   "source": [
    "Note: the SNR is slightly different from Weizmann since we used a different waveform. Also, the network SNR depends on how many detectors were \"operational\" in the event etc. Note that it is saved separately"
   ]
  },
  {
   "cell_type": "code",
   "execution_count": 22,
   "metadata": {},
   "outputs": [],
   "source": [
    "def get_injection_snr(rundir_list: str) -> np.array:\n",
    "    # Iterate over all rundirs, fetch the dL from the config.json\n",
    "    snr_list = []\n",
    "    \n",
    "    for d in rundir_list:\n",
    "        file = d + 'network_snr.txt'\n",
    "        snr = np.loadtxt(file)\n",
    "        snr_list.append(snr)\n",
    "        \n",
    "    return np.array(snr_list)"
   ]
  },
  {
   "cell_type": "code",
   "execution_count": 23,
   "metadata": {},
   "outputs": [
    {
     "data": {
      "image/png": "[encoded data removed]",
      "text/plain": [
       "<Figure size 640x480 with 1 Axes>"
      ]
     },
     "metadata": {},
     "output_type": "display_data"
    }
   ],
   "source": [
    "snr_list = get_injection_snr(run_dirs)\n",
    "plt.hist(snr_list, bins=20, color = \"blue\", linewidth=2, histtype='step')\n",
    "plt.xlabel(\"SNR\")\n",
    "plt.ylabel(\"Counts\")\n",
    "plt.show()"
   ]
  },
  {
   "cell_type": "markdown",
   "metadata": {},
   "source": [
    "It seems there is one outlier with a very high SNR -- this might severely impact the results in terms of ordering the different runs!"
   ]
  },
  {
   "cell_type": "markdown",
   "metadata": {},
   "source": [
    "## Histograms for dL for a run"
   ]
  },
  {
   "cell_type": "code",
   "execution_count": 28,
   "metadata": {},
   "outputs": [],
   "source": [
    "def get_dL_posterior(rundir: str) -> np.array:\n",
    "    \"\"\"\n",
    "    Load the posterior distribution of only dL for a specific rundir.\n",
    "\n",
    "    Args:\n",
    "        rundir (str): The outdir of a specific single run\n",
    "\n",
    "    Returns:\n",
    "        np.array: The array of posterior samples of dL.\n",
    "    \"\"\"\n",
    "    \n",
    "    posterior_file = np.load(rundir + \"results_production.npz\")\n",
    "    chains = posterior_file['chains']\n",
    "    chains = np.reshape(chains, (-1, len(NAMING)))\n",
    "    dL_index = NAMING.index('d_L')\n",
    "    dL = chains[:, dL_index]\n",
    "    \n",
    "    return dL"
   ]
  },
  {
   "cell_type": "markdown",
   "metadata": {},
   "source": [
    "Example"
   ]
  },
  {
   "cell_type": "code",
   "execution_count": 33,
   "metadata": {},
   "outputs": [
    {
     "data": {
      "image/png": "[encoded data removed]",
      "text/plain": [
       "<Figure size 640x480 with 1 Axes>"
      ]
     },
     "metadata": {},
     "output_type": "display_data"
    }
   ],
   "source": [
    "dL = get_dL_posterior(example_dir)\n",
    "\n",
    "# Get the true value for this dL:\n",
    "true_dL = load_true_params_from_config(example_dir, convert_masses=True)[4]\n",
    "\n",
    "plt.hist(dL, bins=20, color = \"blue\", linewidth=2, histtype='step', label = \"Posterior\")\n",
    "plt.axvline(true_dL, color = \"red\", linewidth=2, label = \"True value\")\n",
    "plt.xlabel(\"Luminosity distance [Mpc]\")\n",
    "plt.ylabel(\"Counts\")\n",
    "plt.legend()\n",
    "plt.show()"
   ]
  },
  {
   "cell_type": "markdown",
   "metadata": {},
   "source": [
    "## Full posterior cornerplots"
   ]
  },
  {
   "cell_type": "markdown",
   "metadata": {},
   "source": [
    "You can find them here: https://github.com/ThibeauWouters/jim_H0/tree/tidal/injections_tidal/outdir\n",
    "\n",
    "For each subdirectory, have a look at `chains_production.png` to see how the recovery went."
   ]
  }
 ],
 "metadata": {
  "kernelspec": {
   "display_name": "Python 3",
   "language": "python",
   "name": "python3"
  },
  "language_info": {
   "codemirror_mode": {
    "name": "ipython",
    "version": 3
   },
   "file_extension": ".py",
   "mimetype": "text/x-python",
   "name": "python",
   "nbconvert_exporter": "python",
   "pygments_lexer": "ipython3",
   "version": "3.10.13"
  },
  "orig_nbformat": 4
 },
 "nbformat": 4,
 "nbformat_minor": 2
}
