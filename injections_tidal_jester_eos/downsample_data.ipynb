{
 "cells": [
  {
   "cell_type": "markdown",
   "metadata": {},
   "source": [
    "# Downsampling"
   ]
  },
  {
   "cell_type": "markdown",
   "metadata": {},
   "source": [
    "Need to downsample the data in order to store it on Github."
   ]
  },
  {
   "cell_type": "code",
   "execution_count": 1,
   "metadata": {},
   "outputs": [
    {
     "name": "stdout",
     "output_type": "stream",
     "text": [
      "['injection_2392', 'injection_2912', 'injection_4001', 'injection_3580', 'injection_3500', 'injection_21', 'injection_439', 'injection_1882', 'injection_4161', 'injection_2780', 'injection_1068', 'injection_945', 'injection_2693', 'injection_238', 'injection_2555', 'injection_2450', 'injection_484', 'injection_3900', 'injection_4390', 'injection_4260', 'injection_1539', 'injection_4314', 'injection_3070', 'injection_129', 'injection_2922', 'injection_2798', 'injection_4747', 'injection_2310', 'injection_81', 'injection_4067']\n"
     ]
    }
   ],
   "source": [
    "import os\n",
    "import numpy as np\n",
    "import matplotlib.pyplot as plt\n",
    "import corner\n",
    "\n",
    "outdir = \"./outdir_uniform/\"\n",
    "run_dirs = os.listdir(outdir)\n",
    "print(run_dirs)\n",
    "save_location = \"./downsampled_data_uniform/\""
   ]
  },
  {
   "cell_type": "markdown",
   "metadata": {},
   "source": [
    "## Saving the downsampled data\n"
   ]
  },
  {
   "cell_type": "code",
   "execution_count": 2,
   "metadata": {},
   "outputs": [],
   "source": [
    "downsample_factor = 20\n",
    "\n",
    "for run_id in run_dirs:\n",
    "    path = os.path.join(outdir, run_id, \"results_production.npz\")\n",
    "    \n",
    "    # Load the data\n",
    "    data = np.load(path)\n",
    "    chains = data['chains']\n",
    "    log_prob = data['log_prob']\n",
    "    \n",
    "    chains = chains.reshape((-1, chains.shape[-1]))\n",
    "    log_prob = log_prob.reshape((-1,))\n",
    "    \n",
    "    # Downsample\n",
    "    chains = chains[::downsample_factor]\n",
    "    log_prob = log_prob[::downsample_factor]\n",
    "    \n",
    "    # Save to new file\n",
    "    new_location = os.path.join(save_location, run_id)\n",
    "    np.savez(new_location, chains=chains, log_prob=log_prob)"
   ]
  },
  {
   "cell_type": "markdown",
   "metadata": {},
   "source": [
    "## Loading and checking the data"
   ]
  },
  {
   "cell_type": "code",
   "execution_count": 3,
   "metadata": {},
   "outputs": [
    {
     "name": "stdout",
     "output_type": "stream",
     "text": [
      "(38000, 13)\n"
     ]
    }
   ],
   "source": [
    "example = np.load(new_location + \".npz\")\n",
    "chains = example['chains']\n",
    "print(np.shape(chains))"
   ]
  },
  {
   "cell_type": "code",
   "execution_count": null,
   "metadata": {},
   "outputs": [],
   "source": []
  }
 ],
 "metadata": {
  "kernelspec": {
   "display_name": "Python 3",
   "language": "python",
   "name": "python3"
  },
  "language_info": {
   "codemirror_mode": {
    "name": "ipython",
    "version": 3
   },
   "file_extension": ".py",
   "mimetype": "text/x-python",
   "name": "python",
   "nbconvert_exporter": "python",
   "pygments_lexer": "ipython3",
   "version": "3.10.13"
  },
  "orig_nbformat": 4
 },
 "nbformat": 4,
 "nbformat_minor": 2
}
