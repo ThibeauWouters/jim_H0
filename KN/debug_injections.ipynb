{
 "cells": [
  {
   "cell_type": "markdown",
   "metadata": {},
   "source": [
    "# Debugging the injections"
   ]
  },
  {
   "cell_type": "markdown",
   "metadata": {},
   "source": [
    "The injected distances are completely off?"
   ]
  },
  {
   "cell_type": "code",
   "execution_count": 20,
   "metadata": {},
   "outputs": [
    {
     "name": "stdout",
     "output_type": "stream",
     "text": [
      "dict_keys(['label', 'outdir', 'sampler', 'log_evidence', 'log_evidence_err', 'log_noise_evidence', 'log_bayes_factor', 'priors', 'posterior', 'injection_parameters', 'meta_data', 'search_parameter_keys', 'fixed_parameter_keys', 'constraint_parameter_keys', 'sampling_time', 'sampler_kwargs', 'use_ratio', 'information_gain', 'log_likelihood_evaluations', 'log_prior_evaluations', 'samples', 'nested_samples', 'parameter_labels', 'parameter_labels_with_unit', 'version'])\n",
      "pymultinest\n",
      "dict_keys(['luminosity_distance', 'inclination_EM', 'log10_mej_dyn', 'vej_dyn', 'Yedyn', 'log10_mej_wind', 'vej_wind', 'alpha', 'ratio_zeta', 'ratio_epsilon', 'cos_theta_jn', 'timeshift', 'Ebv', 'log_likelihood', 'log_prior'])\n",
      "dict_keys(['importance_nested_sampling', 'resume', 'verbose', 'sampling_efficiency', 'n_live_points', 'n_params', 'n_clustering_params', 'wrapped_params', 'multimodal', 'const_efficiency_mode', 'evidence_tolerance', 'n_iter_before_update', 'null_log_evidence', 'max_modes', 'mode_tolerance', 'seed', 'context', 'write_output', 'log_zero', 'max_iter', 'init_MPI', 'dump_callback', 'outputfiles_basename'])\n"
     ]
    }
   ],
   "source": [
    "import json\n",
    "\n",
    "id = \"0\"\n",
    "file = f\"./outdir_Rubin/{id}/injection_Bu2022Ye_{id}_result.json\"\n",
    "\n",
    "with open(file, \"r\") as f:\n",
    "    data = json.load(f)\n",
    "    \n",
    "    \n",
    "print(data.keys())\n",
    "injection_parameters = data[\"injection_parameters\"] # None\n",
    "samples = data[\"samples\"]\n",
    "sampler = data[\"sampler\"]\n",
    "\n",
    "# type(samples['content']) # TODO: figure out how to see the keys\n",
    "\n",
    "print(sampler)\n",
    "\n",
    "posterior = data[\"posterior\"]\n",
    "print(posterior[\"content\"].keys())\n",
    "posterior[\"content\"].keys()\n",
    "\n",
    "# meta_data = data[\"meta_data\"]\n",
    "# print(meta_data.keys())\n",
    "\n",
    "sampler_kwargs = data[\"sampler_kwargs\"]\n",
    "print(sampler_kwargs.keys())"
   ]
  },
  {
   "cell_type": "code",
   "execution_count": null,
   "metadata": {},
   "outputs": [],
   "source": []
  }
 ],
 "metadata": {
  "kernelspec": {
   "display_name": "nmma_fresh",
   "language": "python",
   "name": "python3"
  },
  "language_info": {
   "codemirror_mode": {
    "name": "ipython",
    "version": 3
   },
   "file_extension": ".py",
   "mimetype": "text/x-python",
   "name": "python",
   "nbconvert_exporter": "python",
   "pygments_lexer": "ipython3",
   "version": "3.10.14"
  },
  "orig_nbformat": 4
 },
 "nbformat": 4,
 "nbformat_minor": 2
}
