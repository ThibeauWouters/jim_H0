{
 "cells": [
  {
   "cell_type": "markdown",
   "metadata": {},
   "source": [
    "# Testing out creating KN injections"
   ]
  },
  {
   "cell_type": "markdown",
   "metadata": {},
   "source": [
    "I first have to convert my GW injections to a `.dat` file that is compatible with NMMA. I am recreating something like [this example file](https://github.com/nuclear-multimessenger-astronomy/nmma/blob/main/example_files/sim_events/injections.dat)."
   ]
  },
  {
   "cell_type": "code",
   "execution_count": 4,
   "metadata": {},
   "outputs": [],
   "source": [
    "import os\n",
    "import json\n",
    "import numpy as np \n",
    "import pandas as pd\n",
    "import matplotlib.pyplot as plt \n",
    "%matplotlib inline  \n",
    "import nmma.em.analysis\n",
    "import corner\n",
    "\n",
    "params = {\"axes.grid\": True,\n",
    "        \"text.usetex\" : True,\n",
    "        \"font.family\" : \"serif\",\n",
    "        \"ytick.color\" : \"black\",\n",
    "        \"xtick.color\" : \"black\",\n",
    "        \"axes.labelcolor\" : \"black\",\n",
    "        \"axes.edgecolor\" : \"black\",\n",
    "        \"font.serif\" : [\"Computer Modern Serif\"],\n",
    "        \"xtick.labelsize\": 16,\n",
    "        \"ytick.labelsize\": 16,\n",
    "        \"axes.labelsize\": 16,\n",
    "        \"legend.fontsize\": 16,\n",
    "        \"legend.title_fontsize\": 16,\n",
    "        \"figure.titlesize\": 16}\n",
    "\n",
    "plt.rcParams.update(params)\n",
    "\n",
    "# Improved corner kwargs\n",
    "default_corner_kwargs = dict(bins=40, \n",
    "                        smooth=1., \n",
    "                        show_titles=False,\n",
    "                        label_kwargs=dict(fontsize=16),\n",
    "                        title_kwargs=dict(fontsize=16), \n",
    "                        color=\"blue\",\n",
    "                        # quantiles=[],\n",
    "                        # levels=[0.9],\n",
    "                        plot_density=True, \n",
    "                        plot_datapoints=False, \n",
    "                        fill_contours=True,\n",
    "                        max_n_ticks=4, \n",
    "                        min_n_ticks=3,\n",
    "                        save=False)\n",
    "\n",
    "from bilby.gw.conversion import chirp_mass_and_mass_ratio_to_component_masses"
   ]
  },
  {
   "cell_type": "code",
   "execution_count": 5,
   "metadata": {},
   "outputs": [],
   "source": [
    "def get_dat_file(outdir):\n",
    "    \"\"\"\n",
    "    Convert my set of GW injections to a .dat file to be consumed by NMMA.\n",
    "    \"\"\"\n",
    "    # Runs contain the directories' names, e.g. `injection_123`\n",
    "    \n",
    "    runs = os.listdir(outdir)\n",
    "    my_dict = {\"simulation_id\": [],\n",
    "               \"longitude\": [],\n",
    "               \"latitude\": [],\n",
    "               \"inclination\": [],\n",
    "               \"distance\": [],\n",
    "               \"mass_1\": [],\n",
    "               \"mass_2\": [],\n",
    "               \"spin1z\": [],\n",
    "               \"spin2z\": []}\n",
    "    \n",
    "    # Go over the runs and save each of these:\n",
    "    for run in runs:\n",
    "        # Add the simulation ID\n",
    "        simulation_id = run.split(\"_\")[-1]\n",
    "        my_dict[\"simulation_id\"].append(int(simulation_id))\n",
    "        \n",
    "        # Load the json to get the other values\n",
    "        this_dir = os.path.join(outdir, run)\n",
    "        file = os.path.join(this_dir, \"config.json\")\n",
    "        with open(file, \"r\") as f:\n",
    "            config = json.load(f)\n",
    "            \n",
    "            # Masses\n",
    "            mc, q = config[\"M_c\"], config[\"q\"]\n",
    "            m1, m2 = chirp_mass_and_mass_ratio_to_component_masses(mc, q)\n",
    "            my_dict[\"mass_1\"].append(m1)\n",
    "            my_dict[\"mass_2\"].append(m2)\n",
    "            \n",
    "            # Spins\n",
    "            my_dict[\"spin1z\"].append(config[\"s1_z\"])\n",
    "            my_dict[\"spin2z\"].append(config[\"s2_z\"])\n",
    "            \n",
    "            # External:\n",
    "            my_dict[\"inclination\"].append(np.arccos(config[\"cos_iota\"]))\n",
    "            my_dict[\"distance\"].append(config[\"d_L\"])\n",
    "            my_dict[\"longitude\"].append(config[\"ra\"])\n",
    "            my_dict[\"latitude\"].append(np.arcsin(config[\"sin_dec\"]))\n",
    "            \n",
    "    return my_dict"
   ]
  },
  {
   "cell_type": "code",
   "execution_count": 10,
   "metadata": {},
   "outputs": [],
   "source": [
    "def edit_injection_json(filename_json):\n",
    "    \"\"\"\n",
    "    For some reason there is an issue with KNtheta, remove that from the json and save it again. Perhaps will have to do something else in the future, so a separate function.\n",
    "    \"\"\"\n",
    "    \n",
    "    # Load original\n",
    "    with open(filename_json, \"r\") as f:\n",
    "        config = json.load(f)\n",
    "    \n",
    "    # Make the desired edits\n",
    "    try: \n",
    "        config[\"injections\"][\"content\"].pop(\"KNtheta\")\n",
    "    except KeyError:\n",
    "        print(\"KeyError was given, perhaps KNtheta was already removed?\")\n",
    "        \n",
    "    # Save it again\n",
    "    with open(filename_json, \"w\") as f:\n",
    "        json.dump(config, f)"
   ]
  },
  {
   "cell_type": "code",
   "execution_count": 7,
   "metadata": {},
   "outputs": [],
   "source": [
    "my_dict = get_dat_file(\"../injections_tidal/outdir/\")\n",
    "df = pd.DataFrame(my_dict)\n",
    "# df # to show\n",
    "df.to_csv(\"injections.dat\", sep=\" \", index=False)"
   ]
  },
  {
   "cell_type": "markdown",
   "metadata": {},
   "source": [
    "## Check json"
   ]
  },
  {
   "cell_type": "markdown",
   "metadata": {},
   "source": [
    "**NOW: Run the create-injection**. Then here we will check that output in more detail. Noticed that there is an issue with the KNtheta, so I will remove that manually here. "
   ]
  },
  {
   "cell_type": "code",
   "execution_count": 11,
   "metadata": {},
   "outputs": [
    {
     "name": "stdout",
     "output_type": "stream",
     "text": [
      "KeyError was given, perhaps KNtheta was already removed?\n"
     ]
    }
   ],
   "source": [
    "filename = \"./outdir/injection_Bu2022Ye.json\"\n",
    "edit_injection_json(filename)"
   ]
  },
  {
   "cell_type": "code",
   "execution_count": 9,
   "metadata": {},
   "outputs": [
    {
     "name": "stdout",
     "output_type": "stream",
     "text": [
      "21\n",
      "simulation_id\n",
      "longitude\n",
      "latitude\n",
      "inclination\n",
      "distance\n",
      "mass_1\n",
      "mass_2\n",
      "spin1z\n",
      "spin2z\n",
      "timeshift\n",
      "luminosity_distance\n",
      "inclination_EM\n",
      "log10_mej_dyn\n",
      "vej_dyn\n",
      "Yedyn\n",
      "log10_mej_wind\n",
      "vej_wind\n",
      "alpha\n",
      "ratio_zeta\n",
      "ratio_epsilon\n",
      "cos_theta_jn\n",
      "geocent_time\n",
      "phi_jl\n",
      "phi_12\n",
      "theta_jn\n",
      "redshift\n",
      "mass_1_source\n",
      "mass_2_source\n",
      "TOV_mass\n",
      "TOV_radius\n",
      "lambda_1\n",
      "lambda_2\n",
      "radius_1\n",
      "radius_2\n",
      "R_16\n",
      "R_14\n",
      "log10_mej\n",
      "log10_E0\n"
     ]
    }
   ],
   "source": [
    "with open(filename, \"r\") as f:\n",
    "    config = json.load(f)\n",
    "    injections = config[\"injections\"][\"content\"]\n",
    "    # print(injections.keys())\n",
    "\n",
    "print(len(injections[\"mass_1\"]))\n",
    "\n",
    "for key, val in injections.items():\n",
    "    print(key)\n",
    "    # print(val)"
   ]
  },
  {
   "cell_type": "markdown",
   "metadata": {},
   "source": [
    "# === Archive ==="
   ]
  },
  {
   "cell_type": "markdown",
   "metadata": {},
   "source": [
    "Something seemed off with the NMMA runs, but turns out, it is most likely just issues with the realistic KN injections -- you might have to keep on resampling to get a decent, detectable LC ..."
   ]
  },
  {
   "cell_type": "code",
   "execution_count": 7,
   "metadata": {},
   "outputs": [],
   "source": [
    "# # The parameters for the injection\n",
    "# my_params = ['luminosity_distance', 'inclination_EM', 'log10_mej_dyn', 'vej_dyn', 'Yedyn', 'log10_mej_wind', 'vej_wind', 'alpha', 'ratio_zeta', 'ratio_epsilon', 'cos_theta_jn']\n",
    "\n",
    "# # The file with the test run\n",
    "# file = \"/home/urash/twouters/projects/jim_H0/KN/outdir/BNS/0/injection_Bu2022Ye_0_result.json\"\n",
    "\n",
    "# with open(file, \"r\") as f:\n",
    "#     result = json.load(f)\n",
    "#     posterior = result[\"posterior\"][\"content\"]\n",
    "#     my_posterior_values = np.array([posterior[key] for key in my_params])\n",
    "# keys = posterior.keys()\n",
    "\n",
    "# # Make a corner plot\n",
    "# corner.corner(my_posterior_values.T, labels=my_params, **default_corner_kwargs)\n",
    "# plt.show()"
   ]
  },
  {
   "cell_type": "markdown",
   "metadata": {},
   "source": [
    "## (Extra:) Analyze some variables for the KN runs setup"
   ]
  },
  {
   "cell_type": "markdown",
   "metadata": {},
   "source": [
    "Used to check what kind of priors I should use"
   ]
  },
  {
   "cell_type": "code",
   "execution_count": 8,
   "metadata": {},
   "outputs": [],
   "source": [
    "# # Plot histograms for each variable\n",
    "# for key in my_dict.keys():\n",
    "#     print(key)\n",
    "#     print(my_dict[key])\n",
    "#     if key == \"simulation_id\":\n",
    "#         continue\n",
    "#     plt.figure()\n",
    "#     plt.hist(my_dict[key], bins=20)\n",
    "#     plt.title(key)\n",
    "#     plt.show()"
   ]
  },
  {
   "cell_type": "code",
   "execution_count": null,
   "metadata": {},
   "outputs": [],
   "source": []
  }
 ],
 "metadata": {
  "kernelspec": {
   "display_name": "nmma_fresh",
   "language": "python",
   "name": "python3"
  },
  "language_info": {
   "codemirror_mode": {
    "name": "ipython",
    "version": 3
   },
   "file_extension": ".py",
   "mimetype": "text/x-python",
   "name": "python",
   "nbconvert_exporter": "python",
   "pygments_lexer": "ipython3",
   "version": "3.10.14"
  },
  "orig_nbformat": 4
 },
 "nbformat": 4,
 "nbformat_minor": 2
}
