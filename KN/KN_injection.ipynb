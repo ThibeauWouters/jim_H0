{
 "cells": [
  {
   "cell_type": "markdown",
   "metadata": {},
   "source": [
    "# Testing out creating KN injections"
   ]
  },
  {
   "cell_type": "markdown",
   "metadata": {},
   "source": [
    "I first have to convert my GW injections to a `.dat` file that is compatible with NMMA. I am recreating something like [this example file](https://github.com/nuclear-multimessenger-astronomy/nmma/blob/main/example_files/sim_events/injections.dat)."
   ]
  },
  {
   "cell_type": "code",
   "execution_count": 2,
   "metadata": {},
   "outputs": [
    {
     "name": "stderr",
     "output_type": "stream",
     "text": [
      "/home/urash/twouters/miniconda3/envs/nmma_fresh/lib/python3.10/site-packages/scipy/__init__.py:146: UserWarning: A NumPy version >=1.16.5 and <1.23.0 is required for this version of SciPy (detected version 1.23.5\n",
      "  warnings.warn(f\"A NumPy version >={np_minversion} and <{np_maxversion}\"\n",
      "/home/urash/twouters/miniconda3/envs/nmma_fresh/lib/python3.10/site-packages/tqdm/auto.py:21: TqdmWarning: IProgress not found. Please update jupyter and ipywidgets. See https://ipywidgets.readthedocs.io/en/stable/user_install.html\n",
      "  from .autonotebook import tqdm as notebook_tqdm\n"
     ]
    },
    {
     "name": "stdout",
     "output_type": "stream",
     "text": [
      "Install wrapt_timeout_decorator if you want timeout simulations.\n"
     ]
    }
   ],
   "source": [
    "import os\n",
    "import json\n",
    "import numpy as np \n",
    "import pandas as pd\n",
    "import matplotlib.pyplot as plt \n",
    "%matplotlib inline  \n",
    "import nmma.em.analysis\n",
    "import corner\n",
    "\n",
    "params = {\"axes.grid\": True,\n",
    "        \"text.usetex\" : True,\n",
    "        \"font.family\" : \"serif\",\n",
    "        \"ytick.color\" : \"black\",\n",
    "        \"xtick.color\" : \"black\",\n",
    "        \"axes.labelcolor\" : \"black\",\n",
    "        \"axes.edgecolor\" : \"black\",\n",
    "        \"font.serif\" : [\"Computer Modern Serif\"],\n",
    "        \"xtick.labelsize\": 16,\n",
    "        \"ytick.labelsize\": 16,\n",
    "        \"axes.labelsize\": 16,\n",
    "        \"legend.fontsize\": 16,\n",
    "        \"legend.title_fontsize\": 16,\n",
    "        \"figure.titlesize\": 16}\n",
    "\n",
    "plt.rcParams.update(params)\n",
    "\n",
    "# Improved corner kwargs\n",
    "default_corner_kwargs = dict(bins=40, \n",
    "                        smooth=1., \n",
    "                        show_titles=False,\n",
    "                        label_kwargs=dict(fontsize=16),\n",
    "                        title_kwargs=dict(fontsize=16), \n",
    "                        color=\"blue\",\n",
    "                        # quantiles=[],\n",
    "                        # levels=[0.9],\n",
    "                        plot_density=True, \n",
    "                        plot_datapoints=False, \n",
    "                        fill_contours=True,\n",
    "                        max_n_ticks=4, \n",
    "                        min_n_ticks=3,\n",
    "                        save=False)\n",
    "\n",
    "from bilby.gw.conversion import chirp_mass_and_mass_ratio_to_component_masses"
   ]
  },
  {
   "cell_type": "code",
   "execution_count": 8,
   "metadata": {},
   "outputs": [],
   "source": [
    "def get_dat_file(outdir):\n",
    "    \"\"\"\n",
    "    Convert my set of GW injections to a .dat file to be consumed by NMMA.\n",
    "    \"\"\"\n",
    "    # Runs contain the directories' names, e.g. `injection_123`\n",
    "    \n",
    "    runs = os.listdir(outdir)\n",
    "    my_dict = {\"simulation_id\": [],\n",
    "               \"longitude\": [],\n",
    "               \"latitude\": [],\n",
    "               \"inclination\": [],\n",
    "               \"distance\": [],\n",
    "               \"mass_1\": [],\n",
    "               \"mass_2\": [],\n",
    "               \"spin1z\": [],\n",
    "               \"spin2z\": []}\n",
    "    \n",
    "    # Go over the runs and save each of these:\n",
    "    for run in runs:\n",
    "        # Add the simulation ID\n",
    "        simulation_id = run.split(\"_\")[-1]\n",
    "        my_dict[\"simulation_id\"].append(int(simulation_id))\n",
    "        \n",
    "        # Load the json to get the other values\n",
    "        this_dir = os.path.join(outdir, run)\n",
    "        file = os.path.join(this_dir, \"config.json\")\n",
    "        with open(file, \"r\") as f:\n",
    "            config = json.load(f)\n",
    "            \n",
    "            # Masses\n",
    "            mc, q = config[\"M_c\"], config[\"q\"]\n",
    "            m1, m2 = chirp_mass_and_mass_ratio_to_component_masses(mc, q)\n",
    "            my_dict[\"mass_1\"].append(m1)\n",
    "            my_dict[\"mass_2\"].append(m2)\n",
    "            \n",
    "            # Spins\n",
    "            my_dict[\"spin1z\"].append(config[\"s1_z\"])\n",
    "            my_dict[\"spin2z\"].append(config[\"s2_z\"])\n",
    "            \n",
    "            # External:\n",
    "            my_dict[\"inclination\"].append(np.arccos(config[\"cos_iota\"]))\n",
    "            my_dict[\"distance\"].append(config[\"d_L\"])\n",
    "            my_dict[\"longitude\"].append(config[\"ra\"])\n",
    "            my_dict[\"latitude\"].append(np.arcsin(config[\"sin_dec\"]))\n",
    "            \n",
    "    return my_dict"
   ]
  },
  {
   "cell_type": "code",
   "execution_count": 19,
   "metadata": {},
   "outputs": [],
   "source": [
    "def edit_injection_json(filename_json):\n",
    "    \"\"\"\n",
    "    For some reason there is an issue with KNtheta, remove that from the json and save it again. Perhaps will have to do something else in the future, so a separate function.\n",
    "    \"\"\"\n",
    "    \n",
    "    # Load original\n",
    "    with open(filename_json, \"r\") as f:\n",
    "        config = json.load(f)\n",
    "    \n",
    "    # Make the desired edits\n",
    "    config[\"injections\"][\"content\"].pop(\"KNtheta\")\n",
    "        \n",
    "    # Save it again\n",
    "    with open(filename_json, \"w\") as f:\n",
    "        json.dump(config, f)"
   ]
  },
  {
   "cell_type": "code",
   "execution_count": 20,
   "metadata": {},
   "outputs": [],
   "source": [
    "my_dict = get_dat_file(\"../injections_tidal/outdir/\")\n",
    "df = pd.DataFrame(my_dict)\n",
    "# df # to show\n",
    "df.to_csv(\"injections.dat\", sep=\" \", index=False)"
   ]
  },
  {
   "cell_type": "markdown",
   "metadata": {},
   "source": [
    "## Check json"
   ]
  },
  {
   "cell_type": "markdown",
   "metadata": {},
   "source": [
    "At this point, run the create-injection, then here we will check that output in more detail."
   ]
  },
  {
   "cell_type": "markdown",
   "metadata": {},
   "source": [
    "Noticed that there is an issue with the KNtheta, so I will remove that manually here. "
   ]
  },
  {
   "cell_type": "code",
   "execution_count": 22,
   "metadata": {},
   "outputs": [
    {
     "ename": "KeyError",
     "evalue": "'KNtheta'",
     "output_type": "error",
     "traceback": [
      "\u001b[0;31m---------------------------------------------------------------------------\u001b[0m",
      "\u001b[0;31mKeyError\u001b[0m                                  Traceback (most recent call last)",
      "Cell \u001b[0;32mIn[22], line 2\u001b[0m\n\u001b[1;32m      1\u001b[0m filename \u001b[39m=\u001b[39m \u001b[39m\"\u001b[39m\u001b[39m./outdir/injection_Bu2022Ye.json\u001b[39m\u001b[39m\"\u001b[39m\n\u001b[0;32m----> 2\u001b[0m edit_injection_json(filename)\n",
      "Cell \u001b[0;32mIn[19], line 11\u001b[0m, in \u001b[0;36medit_injection_json\u001b[0;34m(filename_json)\u001b[0m\n\u001b[1;32m      8\u001b[0m     config \u001b[39m=\u001b[39m json\u001b[39m.\u001b[39mload(f)\n\u001b[1;32m     10\u001b[0m \u001b[39m# Make the desired edits\u001b[39;00m\n\u001b[0;32m---> 11\u001b[0m config[\u001b[39m\"\u001b[39;49m\u001b[39minjections\u001b[39;49m\u001b[39m\"\u001b[39;49m][\u001b[39m\"\u001b[39;49m\u001b[39mcontent\u001b[39;49m\u001b[39m\"\u001b[39;49m]\u001b[39m.\u001b[39;49mpop(\u001b[39m\"\u001b[39;49m\u001b[39mKNtheta\u001b[39;49m\u001b[39m\"\u001b[39;49m)\n\u001b[1;32m     13\u001b[0m \u001b[39m# Save it again\u001b[39;00m\n\u001b[1;32m     14\u001b[0m \u001b[39mwith\u001b[39;00m \u001b[39mopen\u001b[39m(filename_json, \u001b[39m\"\u001b[39m\u001b[39mw\u001b[39m\u001b[39m\"\u001b[39m) \u001b[39mas\u001b[39;00m f:\n",
      "\u001b[0;31mKeyError\u001b[0m: 'KNtheta'"
     ]
    }
   ],
   "source": [
    "filename = \"./outdir/injection_Bu2022Ye.json\"\n",
    "edit_injection_json(filename)"
   ]
  },
  {
   "cell_type": "code",
   "execution_count": 23,
   "metadata": {},
   "outputs": [
    {
     "name": "stdout",
     "output_type": "stream",
     "text": [
      "31\n",
      "simulation_id\n",
      "longitude\n",
      "latitude\n",
      "inclination\n",
      "distance\n",
      "mass_1\n",
      "mass_2\n",
      "spin1z\n",
      "spin2z\n",
      "timeshift\n",
      "luminosity_distance\n",
      "inclination_EM\n",
      "log10_mej_dyn\n",
      "vej_dyn\n",
      "Yedyn\n",
      "log10_mej_wind\n",
      "vej_wind\n",
      "alpha\n",
      "ratio_zeta\n",
      "ratio_epsilon\n",
      "cos_theta_jn\n",
      "geocent_time\n",
      "phi_jl\n",
      "phi_12\n",
      "theta_jn\n",
      "redshift\n",
      "mass_1_source\n",
      "mass_2_source\n",
      "TOV_mass\n",
      "TOV_radius\n",
      "lambda_1\n",
      "lambda_2\n",
      "radius_1\n",
      "radius_2\n",
      "R_16\n",
      "R_14\n",
      "log10_mej\n",
      "log10_E0\n"
     ]
    }
   ],
   "source": [
    "with open(filename, \"r\") as f:\n",
    "    config = json.load(f)\n",
    "    injections = config[\"injections\"][\"content\"]\n",
    "    # print(injections.keys())\n",
    "\n",
    "print(len(injections[\"mass_1\"]))\n",
    "\n",
    "for key, val in injections.items():\n",
    "    print(key)\n",
    "    # print(val)"
   ]
  },
  {
   "cell_type": "markdown",
   "metadata": {},
   "source": [
    "## Debugging the NMMA runs"
   ]
  },
  {
   "cell_type": "markdown",
   "metadata": {},
   "source": [
    "Something is off with the runs... but what?"
   ]
  },
  {
   "cell_type": "code",
   "execution_count": null,
   "metadata": {},
   "outputs": [],
   "source": []
  },
  {
   "cell_type": "code",
   "execution_count": 13,
   "metadata": {},
   "outputs": [
    {
     "ename": "FileNotFoundError",
     "evalue": "[Errno 2] No such file or directory: '/home/urash/twouters/projects/jim_H0/KN/outdir/BNS/0/injection_Bu2022Ye_0_result.json'",
     "output_type": "error",
     "traceback": [
      "\u001b[0;31m---------------------------------------------------------------------------\u001b[0m",
      "\u001b[0;31mFileNotFoundError\u001b[0m                         Traceback (most recent call last)",
      "Cell \u001b[0;32mIn[13], line 7\u001b[0m\n\u001b[1;32m      4\u001b[0m \u001b[39m# The file with the test run\u001b[39;00m\n\u001b[1;32m      5\u001b[0m file \u001b[39m=\u001b[39m \u001b[39m\"\u001b[39m\u001b[39m/home/urash/twouters/projects/jim_H0/KN/outdir/BNS/0/injection_Bu2022Ye_0_result.json\u001b[39m\u001b[39m\"\u001b[39m\n\u001b[0;32m----> 7\u001b[0m \u001b[39mwith\u001b[39;00m \u001b[39mopen\u001b[39;49m(file, \u001b[39m\"\u001b[39;49m\u001b[39mr\u001b[39;49m\u001b[39m\"\u001b[39;49m) \u001b[39mas\u001b[39;00m f:\n\u001b[1;32m      8\u001b[0m     result \u001b[39m=\u001b[39m json\u001b[39m.\u001b[39mload(f)\n\u001b[1;32m      9\u001b[0m     posterior \u001b[39m=\u001b[39m result[\u001b[39m\"\u001b[39m\u001b[39mposterior\u001b[39m\u001b[39m\"\u001b[39m][\u001b[39m\"\u001b[39m\u001b[39mcontent\u001b[39m\u001b[39m\"\u001b[39m]\n",
      "File \u001b[0;32m~/miniconda3/envs/nmma_fresh/lib/python3.10/site-packages/IPython/core/interactiveshell.py:324\u001b[0m, in \u001b[0;36m_modified_open\u001b[0;34m(file, *args, **kwargs)\u001b[0m\n\u001b[1;32m    317\u001b[0m \u001b[39mif\u001b[39;00m file \u001b[39min\u001b[39;00m {\u001b[39m0\u001b[39m, \u001b[39m1\u001b[39m, \u001b[39m2\u001b[39m}:\n\u001b[1;32m    318\u001b[0m     \u001b[39mraise\u001b[39;00m \u001b[39mValueError\u001b[39;00m(\n\u001b[1;32m    319\u001b[0m         \u001b[39mf\u001b[39m\u001b[39m\"\u001b[39m\u001b[39mIPython won\u001b[39m\u001b[39m'\u001b[39m\u001b[39mt let you open fd=\u001b[39m\u001b[39m{\u001b[39;00mfile\u001b[39m}\u001b[39;00m\u001b[39m by default \u001b[39m\u001b[39m\"\u001b[39m\n\u001b[1;32m    320\u001b[0m         \u001b[39m\"\u001b[39m\u001b[39mas it is likely to crash IPython. If you know what you are doing, \u001b[39m\u001b[39m\"\u001b[39m\n\u001b[1;32m    321\u001b[0m         \u001b[39m\"\u001b[39m\u001b[39myou can use builtins\u001b[39m\u001b[39m'\u001b[39m\u001b[39m open.\u001b[39m\u001b[39m\"\u001b[39m\n\u001b[1;32m    322\u001b[0m     )\n\u001b[0;32m--> 324\u001b[0m \u001b[39mreturn\u001b[39;00m io_open(file, \u001b[39m*\u001b[39;49margs, \u001b[39m*\u001b[39;49m\u001b[39m*\u001b[39;49mkwargs)\n",
      "\u001b[0;31mFileNotFoundError\u001b[0m: [Errno 2] No such file or directory: '/home/urash/twouters/projects/jim_H0/KN/outdir/BNS/0/injection_Bu2022Ye_0_result.json'"
     ]
    }
   ],
   "source": [
    "# # The parameters for the injection\n",
    "# my_params = ['luminosity_distance', 'inclination_EM', 'log10_mej_dyn', 'vej_dyn', 'Yedyn', 'log10_mej_wind', 'vej_wind', 'alpha', 'ratio_zeta', 'ratio_epsilon', 'cos_theta_jn']\n",
    "\n",
    "# # The file with the test run\n",
    "# file = \"/home/urash/twouters/projects/jim_H0/KN/outdir/BNS/0/injection_Bu2022Ye_0_result.json\"\n",
    "\n",
    "# with open(file, \"r\") as f:\n",
    "#     result = json.load(f)\n",
    "#     posterior = result[\"posterior\"][\"content\"]\n",
    "#     my_posterior_values = np.array([posterior[key] for key in my_params])\n",
    "# keys = posterior.keys()\n",
    "\n",
    "# # Make a corner plot\n",
    "# corner.corner(my_posterior_values.T, labels=my_params, **default_corner_kwargs)\n",
    "# plt.show()"
   ]
  },
  {
   "cell_type": "markdown",
   "metadata": {},
   "source": [
    "## (Extra:) Analyze some variables for the KN runs setup"
   ]
  },
  {
   "cell_type": "markdown",
   "metadata": {},
   "source": [
    "Used to check what kind of priors I should use"
   ]
  },
  {
   "cell_type": "code",
   "execution_count": 5,
   "metadata": {},
   "outputs": [],
   "source": [
    "# # Plot histograms for each variable\n",
    "# for key in my_dict.keys():\n",
    "#     print(key)\n",
    "#     print(my_dict[key])\n",
    "#     if key == \"simulation_id\":\n",
    "#         continue\n",
    "#     plt.figure()\n",
    "#     plt.hist(my_dict[key], bins=20)\n",
    "#     plt.title(key)\n",
    "#     plt.show()"
   ]
  }
 ],
 "metadata": {
  "kernelspec": {
   "display_name": "nmma_fresh",
   "language": "python",
   "name": "python3"
  },
  "language_info": {
   "codemirror_mode": {
    "name": "ipython",
    "version": 3
   },
   "file_extension": ".py",
   "mimetype": "text/x-python",
   "name": "python",
   "nbconvert_exporter": "python",
   "pygments_lexer": "ipython3",
   "version": "3.10.14"
  },
  "orig_nbformat": 4
 },
 "nbformat": 4,
 "nbformat_minor": 2
}
